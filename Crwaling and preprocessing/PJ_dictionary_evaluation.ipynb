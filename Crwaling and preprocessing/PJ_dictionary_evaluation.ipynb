{
 "cells": [
  {
   "cell_type": "code",
   "execution_count": 1,
   "metadata": {},
   "outputs": [],
   "source": [
    "import openpyxl\n",
    "import pandas as pd\n",
    "import matplotlib.pyplot as plt\n",
    "import numpy as np"
   ]
  },
  {
   "cell_type": "code",
   "execution_count": 2,
   "metadata": {},
   "outputs": [],
   "source": [
    "kyochon_=openpyxl.load_workbook('kyochon.xlsx')\n",
    "goobnae_=openpyxl.load_workbook('goobnae.xlsx')\n",
    "naenae_=openpyxl.load_workbook('naenae.xlsx')\n",
    "norang_=openpyxl.load_workbook('norang.xlsx')\n",
    "zicoba_=openpyxl.load_workbook('zicoba.xlsx')\n",
    "pericana_=openpyxl.load_workbook('pericana.xlsx')\n",
    "bbq_=openpyxl.load_workbook('BBQ.xlsx')\n",
    "bhc_=openpyxl.load_workbook('BHC.xlsx')\n",
    "cheogotjip_=openpyxl.load_workbook('cheogotjip.xlsx')"
   ]
  },
  {
   "cell_type": "code",
   "execution_count": 3,
   "metadata": {},
   "outputs": [],
   "source": [
    "# kyochon_=openpyxl.load_workbook('서울_교촌치킨_new_XsideX.xlsx')"
   ]
  },
  {
   "cell_type": "code",
   "execution_count": 4,
   "metadata": {},
   "outputs": [],
   "source": [
    "def reviewFromXlsx(file):\n",
    "    file=file.worksheets[0]\n",
    "    data=[]\n",
    "    for row in file.rows:\n",
    "        data.append([row[0].value,row[1].value,row[2].value,row[3].value])\n",
    "    df=pd.DataFrame(data)\n",
    "    review=df[1]\n",
    "    \n",
    "    return review\n",
    "    "
   ]
  },
  {
   "cell_type": "code",
   "execution_count": 5,
   "metadata": {},
   "outputs": [],
   "source": [
    "reviewData=[reviewFromXlsx(kyochon_), reviewFromXlsx(goobnae_), reviewFromXlsx(naenae_), reviewFromXlsx(norang_) \\\n",
    "           , reviewFromXlsx(zicoba_), reviewFromXlsx(pericana_), reviewFromXlsx(bbq_), reviewFromXlsx(bhc_)]"
   ]
  },
  {
   "cell_type": "code",
   "execution_count": 6,
   "metadata": {},
   "outputs": [],
   "source": [
    "lenData=[len(reviewFromXlsx(kyochon_)), len(reviewFromXlsx(goobnae_)), len(reviewFromXlsx(naenae_)), len(reviewFromXlsx(norang_)) \\\n",
    "           , len(reviewFromXlsx(zicoba_)), len(reviewFromXlsx(pericana_)), len(reviewFromXlsx(bbq_)), len(reviewFromXlsx(bhc_))]"
   ]
  },
  {
   "cell_type": "code",
   "execution_count": 7,
   "metadata": {},
   "outputs": [
    {
     "name": "stdout",
     "output_type": "stream",
     "text": [
      "[14822, 47416, 20243, 4232, 40221, 1213, 11016, 74859]\n",
      "214022\n"
     ]
    }
   ],
   "source": [
    "print(lenData)\n",
    "print(sum(lenData))"
   ]
  },
  {
   "cell_type": "code",
   "execution_count": 8,
   "metadata": {},
   "outputs": [],
   "source": [
    "dict_spicy=['매콤','맵다','맵싹','매웠','매워','맵고','맵네','맵습','맵긴','맵기','맵더라']\n",
    "dict_basak=['바삭','겉바속촉','빠삭']#겉바속촉도 단짠처럼 따로 빼야하나?\n",
    "dict_dambek=['담백']\n",
    "dict_sweet=['달콤','달달','달짝지근','달고','단맛','달았','달아']#(-)리뷰+달고,달아,달았,..\n",
    "dict_salty=['짜다','짠맛','짭짤','짜네','짭','짜더라','짰','짜긴','짜고','짭쪼름','짭조름'] #(-)진짜네,진짜다\n",
    "dict_oily=['느끼']\n",
    "dict_choc=['촉촉']\n",
    "dict_sweetsalty=['단짠']\n",
    "dict_garlic=['갈릭','마늘'] #새로운 제외기준 필요\n",
    "\n",
    "Dictionary=[dict_spicy, dict_basak, dict_dambek, dict_sweet,dict_salty,dict_oily,dict_choc,dict_sweetsalty,dict_garlic]"
   ]
  },
  {
   "cell_type": "code",
   "execution_count": 9,
   "metadata": {},
   "outputs": [
    {
     "name": "stdout",
     "output_type": "stream",
     "text": [
      "[['매콤', '맵다', '맵싹', '매웠', '매워', '맵고', '맵네', '맵습', '맵긴', '맵기', '맵더라'], ['바삭', '겉바속촉', '빠삭'], ['담백'], ['달콤', '달달', '달짝지근', '달고', '단맛', '달았', '달아'], ['짜다', '짠맛', '짭짤', '짜네', '짭', '짜더라', '짰', '짜긴', '짜고', '짭쪼름', '짭조름'], ['느끼'], ['촉촉'], ['단짠'], ['갈릭', '마늘']]\n"
     ]
    },
    {
     "data": {
      "text/plain": [
       "9"
      ]
     },
     "execution_count": 9,
     "metadata": {},
     "output_type": "execute_result"
    }
   ],
   "source": [
    "print(Dictionary)\n",
    "len(Dictionary)"
   ]
  },
  {
   "cell_type": "code",
   "execution_count": 10,
   "metadata": {},
   "outputs": [
    {
     "name": "stdout",
     "output_type": "stream",
     "text": [
      "0\n",
      "1\n",
      "2\n",
      "3\n",
      "4\n",
      "5\n",
      "6\n",
      "7\n"
     ]
    }
   ],
   "source": [
    "count_dict=[0 for i in range(9)]\n",
    "for brand in range(len(reviewData)):\n",
    "    print(brand)\n",
    "    for idxTaste in range(len(Dictionary)):\n",
    "        words=Dictionary[idxTaste]\n",
    "        count_per_Taste=0\n",
    "        \n",
    "        for idxWord in words:\n",
    "            boolean_findings=reviewData[brand].str.contains(idxWord)\n",
    "            count_per_Taste += boolean_findings.sum()\n",
    "\n",
    "        count_dict[idxTaste]+=count_per_Taste"
   ]
  },
  {
   "cell_type": "code",
   "execution_count": 11,
   "metadata": {
    "scrolled": true
   },
   "outputs": [
    {
     "name": "stdout",
     "output_type": "stream",
     "text": [
      "[7791, 8650, 600, 1774, 2720, 1622, 937, 834, 765]\n"
     ]
    }
   ],
   "source": [
    "print(count_dict)"
   ]
  },
  {
   "cell_type": "code",
   "execution_count": 17,
   "metadata": {
    "scrolled": true
   },
   "outputs": [
    {
     "name": "stdout",
     "output_type": "stream",
     "text": [
      "[7791, 8650, 600, 1774, 2720, 1622, 937, 834]\n"
     ]
    },
    {
     "data": {
      "image/png": "[encoded data removed]",
      "text/plain": [
       "<Figure size 720x288 with 1 Axes>"
      ]
     },
     "metadata": {
      "needs_background": "light"
     },
     "output_type": "display_data"
    }
   ],
   "source": [
    "def addlabels(x,y):\n",
    "    for i in range(len(x)):\n",
    "        plt.text(i-0.2,y[i]+100,y[i])\n",
    "\n",
    "x=['spicy','basak','dambek','sweet','salty','oiily','choc','danzzan']\n",
    "y=count_dict[0:8]\n",
    "print(y)\n",
    "fig, ax = plt.subplots(figsize=(10,4))\n",
    "plt.bar(x, y,align='center', width=0.8)\n",
    "addlabels(x, y)\n",
    "plt.ylim([0, 13000])\n",
    "plt.ylabel('n')\n",
    "plt.title('# of occurance (among total review n=277086)')\n",
    "\n",
    "for tick in ax.get_xticklabels():\n",
    "    tick.set_rotation(30)\n",
    "# plt.xticks(range(0,9), ['spicy','basak','dambek','sweet','salty','oiily','choc','danzzan','garlic'])\n",
    "\n",
    "# for index, value in enumerate(y):\n",
    "#     plt.text(value, index, str(value))"
   ]
  },
  {
   "cell_type": "code",
   "execution_count": null,
   "metadata": {},
   "outputs": [],
   "source": [
    "np.std(count_dict)\n",
    "print(np.mean(count_dict)-3*np.std(count_dict))"
   ]
  }
 ],
 "metadata": {
  "kernelspec": {
   "display_name": "Python 3",
   "language": "python",
   "name": "python3"
  },
  "language_info": {
   "codemirror_mode": {
    "name": "ipython",
    "version": 3
   },
   "file_extension": ".py",
   "mimetype": "text/x-python",
   "name": "python",
   "nbconvert_exporter": "python",
   "pygments_lexer": "ipython3",
   "version": "3.8.5"
  }
 },
 "nbformat": 4,
 "nbformat_minor": 4
}
