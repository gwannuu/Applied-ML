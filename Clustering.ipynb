{
 "cells": [
  {
   "cell_type": "code",
   "execution_count": 1,
   "metadata": {},
   "outputs": [],
   "source": [
    "import openpyxl\n",
    "import pandas as pd\n",
    "import numpy as np\n",
    "import matplotlib.pyplot as plt"
   ]
  },
  {
   "cell_type": "code",
   "execution_count": 2,
   "metadata": {},
   "outputs": [],
   "source": [
    "kyochon_=openpyxl.load_workbook('kyochon.xlsx')\n",
    "goobnae_=openpyxl.load_workbook('goobnae.xlsx')\n",
    "naenae_=openpyxl.load_workbook('naenae.xlsx')\n",
    "norang_=openpyxl.load_workbook('norang.xlsx')\n",
    "pericana_=openpyxl.load_workbook('pericana.xlsx')\n",
    "bbq_=openpyxl.load_workbook('BBQ.xlsx')\n",
    "bhc_=openpyxl.load_workbook('BHC.xlsx')\n",
    "cheogotjip_=openpyxl.load_workbook('cheogotjip.xlsx')"
   ]
  },
  {
   "cell_type": "code",
   "execution_count": 3,
   "metadata": {},
   "outputs": [],
   "source": [
    "#taste=['단짠','맵고','매콤','달달','달짝지근','짭짤']\n",
    "neg_plus_front=['안 ','안','덜 ','덜']\n",
    "neg_plus_back=['하지 않','하진 않','하지는 않']\n",
    "\n",
    "neg_spicy=['맵지 않','맵진 않','맵지는 않']\n",
    "neg_sweet=['달지 않','달진 않','달지는 않']\n",
    "neg_salty=['짜지 않','짜진 않','짜지는 않']\n",
    "\n",
    "#minus_sweet=['리뷰를 달','리뷰 달','리뷰 다','리뷰다'] #앞 음절에 리뷰 라는 단어가 들어가면 count에서 제외\n",
    "#minus_salty=['진짜네','진짜다'] ##진+dict_salty ('진짜네','진짜다') count에서 제외"
   ]
  },
  {
   "cell_type": "code",
   "execution_count": 4,
   "metadata": {},
   "outputs": [],
   "source": [
    "dict_spicy=['매콤','맵다','맵싹','매웠','매워','맵고','맵네','맵습','맵긴','맵기','맵더라','매운']\n",
    "dict_basak=['바삭','겉바속촉','빠삭']#겉바속촉도 단짠처럼 따로 빼야하나?\n",
    "dict_dambek=['담백']\n",
    "dict_sweet=['달콤','달달','달짝지근','달고','단맛','달았','달아']#(-)리뷰+달고,달아,달았,..\n",
    "dict_salty=['짜다','짠맛','짭짤','짜네','짭','짜더라','짰','짜긴','짜고','짭쪼름','짭조름'] #(-)진짜네,진짜다\n",
    "dict_oily=['느끼']\n",
    "dict_choc=['촉촉']\n",
    "dict_sweetsalty=['단짠']\n",
    "#dict_garilc=['갈릭','마늘'] #새로운 제외기준 필요"
   ]
  },
  {
   "cell_type": "code",
   "execution_count": 5,
   "metadata": {},
   "outputs": [],
   "source": [
    "col=['spicy','basak','dambek','sweet','salty','oily','choc','sweetsalty']\n",
    "neg_taste=['neg_spicy',False,False,neg_sweet,neg_salty,False,False,False]\n",
    "#delete_keywords=[False,False,False,minus_sweet,minus_salty,False,False,False]"
   ]
  },
  {
   "cell_type": "code",
   "execution_count": 6,
   "metadata": {},
   "outputs": [],
   "source": [
    "#dictionary\n",
    "taste_dictionary=dict()\n",
    "taste_dictionary[col[0]]=dict_spicy\n",
    "taste_dictionary[col[1]]=dict_basak\n",
    "taste_dictionary[col[2]]=dict_dambek\n",
    "taste_dictionary[col[3]]=dict_sweet\n",
    "taste_dictionary[col[4]]=dict_salty\n",
    "taste_dictionary[col[5]]=dict_oily\n",
    "taste_dictionary[col[6]]=dict_choc\n",
    "taste_dictionary[col[7]]=dict_sweetsalty"
   ]
  },
  {
   "cell_type": "code",
   "execution_count": 7,
   "metadata": {},
   "outputs": [
    {
     "data": {
      "text/plain": [
       "{'spicy': ['매콤',\n",
       "  '맵다',\n",
       "  '맵싹',\n",
       "  '매웠',\n",
       "  '매워',\n",
       "  '맵고',\n",
       "  '맵네',\n",
       "  '맵습',\n",
       "  '맵긴',\n",
       "  '맵기',\n",
       "  '맵더라',\n",
       "  '매운'],\n",
       " 'basak': ['바삭', '겉바속촉', '빠삭'],\n",
       " 'dambek': ['담백'],\n",
       " 'sweet': ['달콤', '달달', '달짝지근', '달고', '단맛', '달았', '달아'],\n",
       " 'salty': ['짜다', '짠맛', '짭짤', '짜네', '짭', '짜더라', '짰', '짜긴', '짜고', '짭쪼름', '짭조름'],\n",
       " 'oily': ['느끼'],\n",
       " 'choc': ['촉촉'],\n",
       " 'sweetsalty': ['단짠']}"
      ]
     },
     "execution_count": 7,
     "metadata": {},
     "output_type": "execute_result"
    }
   ],
   "source": [
    "taste_dictionary"
   ]
  },
  {
   "cell_type": "code",
   "execution_count": 8,
   "metadata": {},
   "outputs": [],
   "source": [
    "def negative_words_dictionary(taste_dict,neg_taste=False): #negative dictionary 만들기\n",
    "    neg_dict=[]\n",
    "    \n",
    "    for i in taste_dict:\n",
    "        for j in neg_plus_front:\n",
    "            neg_dict.append(j+i)\n",
    "        \n",
    "    for i in taste_dict:\n",
    "        for j in neg_plus_back:\n",
    "            neg_dict.append(i+j)\n",
    "            \n",
    "    if neg_taste != False:\n",
    "        for i in neg_taste:\n",
    "            neg_dict.append(i)\n",
    "            \n",
    "    return neg_dict"
   ]
  },
  {
   "cell_type": "code",
   "execution_count": 9,
   "metadata": {},
   "outputs": [],
   "source": [
    "def contain_review(dataset,taste_dict): #만들었던 dictionary의 단어들이 포함되는 리뷰 뽑아내기\n",
    "    contain_review=[]\n",
    "#    count=0\n",
    "    #print(type(dataset))\n",
    "    for i in range(len(dataset)):\n",
    "        #print('length of dataset',len(dataset))\n",
    "        review=dataset[0].iloc[i]\n",
    "        for j in taste_dict:\n",
    "            if j in review:\n",
    "                #count+=1\n",
    "                #print(count)                    \n",
    "                contain_review.append(review)\n",
    "                break\n",
    "    #print(\"review contained:\",contain_review)\n",
    "    \n",
    "    return contain_review"
   ]
  },
  {
   "cell_type": "markdown",
   "metadata": {},
   "source": [
    "# Scoring menus"
   ]
  },
  {
   "cell_type": "markdown",
   "metadata": {},
   "source": [
    "### 1. consider only positive review"
   ]
  },
  {
   "cell_type": "code",
   "execution_count": 10,
   "metadata": {},
   "outputs": [],
   "source": [
    "def remove_neg_review(dataset,taste_dict,neg_taste=False):\n",
    "    neg_dict=negative_words_dictionary(taste_dict,neg_taste) #negative dictionary\n",
    "    review_contained=contain_review(dataset,taste_dict)#만들었던 dictionary의 단어들이 포함되는 리뷰 뽑아내기\n",
    "    temp=[]\n",
    "    for i in range(len(review_contained)):#dictionary 단어 포함 리뷰 중 negative dictionary에 있는 단어를 포함하는 리뷰 제거\n",
    "        for j in neg_dict:\n",
    "            if j in review_contained[i]:\n",
    "                #print(i,end=\"\\n\\n\")\n",
    "                temp.append(i)\n",
    "                break\n",
    "                \n",
    "    #for j in temp:\n",
    "    #    review_contained.remove(review_contained(j))\n",
    "    for i in sorted(temp, reverse=True):\n",
    "        del review_contained[i]\n",
    "\n",
    "    \n",
    "    #print('review deleted: ', len(review_contained))\n",
    "    #print('removed negative review: ',contained_review)\n",
    "    return review_contained"
   ]
  },
  {
   "cell_type": "code",
   "execution_count": 11,
   "metadata": {},
   "outputs": [],
   "source": [
    "def taste_scoring_by_menu_1(dataset,taste_dict,neg_taste=False):\n",
    "    count_review=remove_neg_review(dataset,taste_dict,neg_taste)\n",
    "    \n",
    "    return (len(count_review)/len(dataset))"
   ]
  },
  {
   "cell_type": "markdown",
   "metadata": {},
   "source": [
    "### 2. + for pos and - for neg"
   ]
  },
  {
   "cell_type": "code",
   "execution_count": 12,
   "metadata": {},
   "outputs": [],
   "source": [
    "def remove_neg_review_2(dataset,taste_dict,neg_taste=False):\n",
    "    neg_dict=negative_words_dictionary(taste_dict,neg_taste) #negative dictionary\n",
    "    #print('negative dictionary :', neg_dict)\n",
    "    review_contained=contain_review(dataset,taste_dict)#만들었던 dictionary의 단어들이 포함되는 리뷰 뽑아내기\n",
    "    #print('review contained: ',len(review_contained))\n",
    "    temp=[]\n",
    "    for i in range(len(review_contained)):#dictionary 단어 포함 리뷰 중 negative dictionary에 있는 단어를 포함하는 리뷰 제거\n",
    "        for j in neg_dict:\n",
    "            if j in review_contained[i]:\n",
    "                #print(i,end=\"\\n\\n\")\n",
    "                temp.append(i)\n",
    "                break\n",
    "                \n",
    "    #for j in temp:\n",
    "    #    review_contained.remove(review_contained(j))\n",
    "\n",
    "    accessed_mapping=map(review_contained.__getitem__,temp)\n",
    "    review_neg=list(accessed_mapping)\n",
    "\n",
    "    review_pos=review_contained\n",
    "    for i in sorted(temp, reverse=True):\n",
    "        del review_pos[i]\n",
    "    \n",
    "    #print('removed negative review: ',contained_review)\n",
    "    return review_pos,review_neg"
   ]
  },
  {
   "cell_type": "code",
   "execution_count": 13,
   "metadata": {},
   "outputs": [],
   "source": [
    "def taste_scoring_by_menu_2(dataset,taste_dict,neg_taste=False):\n",
    "    #positive review count\n",
    "    count_pos_review,count_neg_review=remove_neg_review_2(dataset,taste_dict,neg_taste)\n",
    "    #print('(+):',len(count_pos_review),'(-):',len(count_neg_review),'length of dataset:',len(dataset))\n",
    "    plus=len(count_pos_review)\n",
    "    minus=len(count_neg_review)\n",
    "    score=(plus-minus)/len(dataset)\n",
    "    #print('score:',score)\n",
    "    \n",
    "    return score"
   ]
  },
  {
   "cell_type": "markdown",
   "metadata": {},
   "source": [
    "### 3. weight"
   ]
  },
  {
   "cell_type": "code",
   "execution_count": 14,
   "metadata": {},
   "outputs": [],
   "source": [
    "burden_plus_front=['개','너무','완전','진짜','대박','ㄹㅇ','찐','찐으로','많이','마니']\n",
    "burden_negative=['전혀','별로','하나도','진짜','너무','ㄹㅇ']"
   ]
  },
  {
   "cell_type": "code",
   "execution_count": 15,
   "metadata": {},
   "outputs": [],
   "source": [
    "def burden(expression): #negative dictionary 만들기\n",
    "    burden_dict=[]\n",
    "    \n",
    "    for i in expression:\n",
    "        for j in burden_plus_front:\n",
    "            burden_dict.append(j+i)\n",
    "    \n",
    "    for i in expression:\n",
    "        for j in burden_plus_front:\n",
    "            burden_dict.append(j+' '+i)\n",
    "        \n",
    "            \n",
    "    return burden_dict"
   ]
  },
  {
   "cell_type": "code",
   "execution_count": 16,
   "metadata": {},
   "outputs": [],
   "source": [
    "def remove_neg_review_3(dataset,taste_dict,neg_taste=False):\n",
    "    neg_dict=negative_words_dictionary(taste_dict,neg_taste) #negative dictionary\n",
    "    #print('negative dictionary :', neg_dict)\n",
    "    review_contained=contain_review(dataset,taste_dict)#만들었던 dictionary의 단어들이 포함되는 리뷰 뽑아내기\n",
    "    #print('review contained: ',len(review_contained))\n",
    "    index_negreview=[]\n",
    "    for i in range(len(review_contained)):#dictionary 단어 포함 리뷰 중 negative dictionary에 있는 단어를 포함하는 리뷰 제거\n",
    "        for j in neg_dict:\n",
    "            if j in review_contained[i]:\n",
    "                #print(i,end=\"\\n\\n\")\n",
    "                index_negreview.append(i)\n",
    "                break\n",
    "                \n",
    "    #for j in temp:\n",
    "    #    review_contained.remove(review_contained(j))\n",
    "\n",
    "    accessed_mapping=map(review_contained.__getitem__,index_negreview)\n",
    "    review_neg=list(accessed_mapping)\n",
    "\n",
    "    review_pos=review_contained\n",
    "    for i in sorted(index_negreview, reverse=True):\n",
    "        del review_pos[i]\n",
    "        \n",
    "    #positive review -> 그냥 positive review // burden positive review\n",
    "    burden_pos=burden(taste_dict)\n",
    "    index_burden_pos=[]\n",
    "    for i in range(len(review_pos)):#dictionary 단어 포함 리뷰 중 burden dict에 있는 단어를 포함하는 리뷰 제거\n",
    "        for j in burden_pos:\n",
    "            if j in review_pos[i]:\n",
    "                #print(i,end=\"\\n\\n\")\n",
    "                index_burden_pos.append(i)\n",
    "                break\n",
    "    \n",
    "    accessed_mapping_burden=map(review_pos.__getitem__,index_burden_pos)\n",
    "    review_burden_pos=list(accessed_mapping_burden)\n",
    "    for i in sorted(index_burden_pos, reverse=True):\n",
    "        del review_pos[i]\n",
    "    \n",
    "    #negative review -> 그냥 negative review // burden negative review\n",
    "    burden_neg=burden(neg_dict)\n",
    "    index_burden_neg=[]\n",
    "    for i in range(len(review_neg)):#dictionary 단어 포함 리뷰 중 burden dict에 있는 단어를 포함하는 리뷰 제거\n",
    "        for j in burden_neg:\n",
    "            if j in review_neg[i]:\n",
    "                #print(i,end=\"\\n\\n\")\n",
    "                index_burden_neg.append(i)\n",
    "                break\n",
    "    \n",
    "    accessed_mapping_burden_neg=map(review_neg.__getitem__,index_burden_neg)\n",
    "    review_burden_neg=list(accessed_mapping_burden_neg)\n",
    "    for i in sorted(index_burden_neg, reverse=True):\n",
    "        del review_neg[i]\n",
    "    \n",
    "    #print('removed negative review: ',contained_review)\n",
    "    return review_pos,review_neg,review_burden_pos,review_burden_neg"
   ]
  },
  {
   "cell_type": "code",
   "execution_count": 17,
   "metadata": {},
   "outputs": [],
   "source": [
    "def taste_scoring_by_menu_3(dataset,taste_dict,neg_taste=False):\n",
    "    #positive review count\n",
    "    pos_review,neg_review,burden_pos_review,burden_neg_review=remove_neg_review_3(dataset,taste_dict,neg_taste)\n",
    "    pos_score=(len(pos_review)+2*len(burden_pos_review))\n",
    "    neg_score=(len(neg_review)+2*len(burden_neg_review))\n",
    "    score=(pos_score+neg_score)/len(dataset)\n",
    "    \n",
    "    return score"
   ]
  },
  {
   "cell_type": "markdown",
   "metadata": {},
   "source": [
    "## Feature Scoring"
   ]
  },
  {
   "cell_type": "code",
   "execution_count": 18,
   "metadata": {},
   "outputs": [],
   "source": [
    "reviewdata=pd.DataFrame()"
   ]
  },
  {
   "cell_type": "code",
   "execution_count": 19,
   "metadata": {},
   "outputs": [],
   "source": [
    "def preprocessing(reviewset):\n",
    "    reviewset=reviewset.worksheets[0]\n",
    "    data=[]\n",
    "    for row in reviewset.rows:\n",
    "        data.append([row[0].value,row[1].value,row[2].value,row[3].value])\n",
    "    reviewset=pd.DataFrame(data)\n",
    "    reviewset=reviewset.drop_duplicates()\n",
    "    return reviewset"
   ]
  },
  {
   "cell_type": "code",
   "execution_count": 20,
   "metadata": {},
   "outputs": [],
   "source": [
    "reviewdata=pd.concat([preprocessing(kyochon_),preprocessing(norang_),preprocessing(naenae_),preprocessing(pericana_)\n",
    "                      ,preprocessing(bbq_),preprocessing(cheogotjip_),preprocessing(goobnae_),preprocessing(bhc_)],ignore_index=True)"
   ]
  },
  {
   "cell_type": "code",
   "execution_count": 21,
   "metadata": {},
   "outputs": [
    {
     "data": {
      "text/html": [
       "<div>\n",
       "<style scoped>\n",
       "    .dataframe tbody tr th:only-of-type {\n",
       "        vertical-align: middle;\n",
       "    }\n",
       "\n",
       "    .dataframe tbody tr th {\n",
       "        vertical-align: top;\n",
       "    }\n",
       "\n",
       "    .dataframe thead th {\n",
       "        text-align: right;\n",
       "    }\n",
       "</style>\n",
       "<table border=\"1\" class=\"dataframe\">\n",
       "  <thead>\n",
       "    <tr style=\"text-align: right;\">\n",
       "      <th></th>\n",
       "      <th>0</th>\n",
       "      <th>1</th>\n",
       "      <th>2</th>\n",
       "      <th>3</th>\n",
       "    </tr>\n",
       "  </thead>\n",
       "  <tbody>\n",
       "    <tr>\n",
       "      <th>0</th>\n",
       "      <td>교촌치킨_교촌</td>\n",
       "      <td>배달도 빠르고 좋았습니다</td>\n",
       "      <td>5</td>\n",
       "      <td>5</td>\n",
       "    </tr>\n",
       "    <tr>\n",
       "      <th>1</th>\n",
       "      <td>교촌치킨_교촌</td>\n",
       "      <td>튀김이 예술입니다. 정말 잘튀겨졌어요. 그리고 양념도 골고루 잘 베어있어 너무 맛있...</td>\n",
       "      <td>5</td>\n",
       "      <td>5</td>\n",
       "    </tr>\n",
       "    <tr>\n",
       "      <th>2</th>\n",
       "      <td>교촌치킨_교촌</td>\n",
       "      <td>교촌치킨은 역시 윙인것 같아요! 치킨도 맛있고 꽈배기도 맛있네요.</td>\n",
       "      <td>5</td>\n",
       "      <td>5</td>\n",
       "    </tr>\n",
       "    <tr>\n",
       "      <th>3</th>\n",
       "      <td>교촌치킨_교촌</td>\n",
       "      <td>배달도 빠르고 맛있었어요</td>\n",
       "      <td>5</td>\n",
       "      <td>5</td>\n",
       "    </tr>\n",
       "    <tr>\n",
       "      <th>4</th>\n",
       "      <td>교촌치킨_교촌</td>\n",
       "      <td>맛있었어요  근데 좀 마니 빠삭?해요ㅎㅎ\\n잘먹었습니다 서비스로 주신 꽈베기는 진짜...</td>\n",
       "      <td>5</td>\n",
       "      <td>4</td>\n",
       "    </tr>\n",
       "    <tr>\n",
       "      <th>...</th>\n",
       "      <td>...</td>\n",
       "      <td>...</td>\n",
       "      <td>...</td>\n",
       "      <td>...</td>\n",
       "    </tr>\n",
       "    <tr>\n",
       "      <th>136790</th>\n",
       "      <td>BHC_후라이드</td>\n",
       "      <td>다 먹어 버렸따.....⭐ 믿고먹는 BHC였으나 점바점을 알려준집....ㅠㅠ 시킨지...</td>\n",
       "      <td>4</td>\n",
       "      <td>3</td>\n",
       "    </tr>\n",
       "    <tr>\n",
       "      <th>136791</th>\n",
       "      <td>BHC_후라이드</td>\n",
       "      <td>맛있게 먹었습이다 감사합니다</td>\n",
       "      <td>5</td>\n",
       "      <td>5</td>\n",
       "    </tr>\n",
       "    <tr>\n",
       "      <th>136792</th>\n",
       "      <td>BHC_후라이드</td>\n",
       "      <td>맛나게먹었어요!감사합니다</td>\n",
       "      <td>5</td>\n",
       "      <td>5</td>\n",
       "    </tr>\n",
       "    <tr>\n",
       "      <th>136793</th>\n",
       "      <td>BHC_후라이드</td>\n",
       "      <td>소스 4개 감사합니다</td>\n",
       "      <td>0</td>\n",
       "      <td>0</td>\n",
       "    </tr>\n",
       "    <tr>\n",
       "      <th>136794</th>\n",
       "      <td>BHC_후라이드</td>\n",
       "      <td>쿠폰 써서 저렴하게 먹었어요 동네 프랜차이즈 중에 제일 나은 것 같아요</td>\n",
       "      <td>0</td>\n",
       "      <td>0</td>\n",
       "    </tr>\n",
       "  </tbody>\n",
       "</table>\n",
       "<p>136795 rows × 4 columns</p>\n",
       "</div>"
      ],
      "text/plain": [
       "               0                                                  1  2  3\n",
       "0        교촌치킨_교촌                                      배달도 빠르고 좋았습니다  5  5\n",
       "1        교촌치킨_교촌  튀김이 예술입니다. 정말 잘튀겨졌어요. 그리고 양념도 골고루 잘 베어있어 너무 맛있...  5  5\n",
       "2        교촌치킨_교촌               교촌치킨은 역시 윙인것 같아요! 치킨도 맛있고 꽈배기도 맛있네요.  5  5\n",
       "3        교촌치킨_교촌                                      배달도 빠르고 맛있었어요  5  5\n",
       "4        교촌치킨_교촌  맛있었어요  근데 좀 마니 빠삭?해요ㅎㅎ\\n잘먹었습니다 서비스로 주신 꽈베기는 진짜...  5  4\n",
       "...          ...                                                ... .. ..\n",
       "136790  BHC_후라이드  다 먹어 버렸따.....⭐ 믿고먹는 BHC였으나 점바점을 알려준집....ㅠㅠ 시킨지...  4  3\n",
       "136791  BHC_후라이드                                    맛있게 먹었습이다 감사합니다  5  5\n",
       "136792  BHC_후라이드                                      맛나게먹었어요!감사합니다  5  5\n",
       "136793  BHC_후라이드                                        소스 4개 감사합니다  0  0\n",
       "136794  BHC_후라이드            쿠폰 써서 저렴하게 먹었어요 동네 프랜차이즈 중에 제일 나은 것 같아요  0  0\n",
       "\n",
       "[136795 rows x 4 columns]"
      ]
     },
     "execution_count": 21,
     "metadata": {},
     "output_type": "execute_result"
    }
   ],
   "source": [
    "reviewdata"
   ]
  },
  {
   "cell_type": "code",
   "execution_count": 22,
   "metadata": {},
   "outputs": [],
   "source": [
    "# menu list\n",
    "menu=reviewdata.iloc[:,0].values\n",
    "menu=np.unique(menu)\n",
    "menu=menu.tolist()\n",
    "#menu"
   ]
  },
  {
   "cell_type": "code",
   "execution_count": 23,
   "metadata": {},
   "outputs": [
    {
     "data": {
      "text/plain": [
       "169"
      ]
     },
     "execution_count": 23,
     "metadata": {},
     "output_type": "execute_result"
    }
   ],
   "source": [
    "len(menu)"
   ]
  },
  {
   "cell_type": "code",
   "execution_count": 24,
   "metadata": {},
   "outputs": [
    {
     "data": {
      "text/plain": [
       "114"
      ]
     },
     "execution_count": 24,
     "metadata": {},
     "output_type": "execute_result"
    }
   ],
   "source": [
    "menu=[i for i in menu if len(reviewdata[reviewdata[0]==i])>20] \n",
    "#리뷰 수 20개 이하인 애들 없애줬다!... 리뷰 수가 좀 더 많았으면 좋겠..따\n",
    "len(menu) #메뉴 개수:141->90"
   ]
  },
  {
   "cell_type": "code",
   "execution_count": 25,
   "metadata": {},
   "outputs": [],
   "source": [
    "review_by_menu=dict()\n",
    "for i in menu:\n",
    "    review_by_menu[i]=len(reviewdata[reviewdata[0]==i])\n",
    "#review_by_menu"
   ]
  },
  {
   "cell_type": "code",
   "execution_count": 26,
   "metadata": {},
   "outputs": [
    {
     "data": {
      "text/plain": [
       "RangeIndex(start=0, stop=136795, step=1)"
      ]
     },
     "execution_count": 26,
     "metadata": {},
     "output_type": "execute_result"
    }
   ],
   "source": [
    "reviewdata[1].index"
   ]
  },
  {
   "cell_type": "code",
   "execution_count": 27,
   "metadata": {},
   "outputs": [
    {
     "data": {
      "text/plain": [
       "0                                             배달도 빠르고 좋았습니다\n",
       "1         튀김이 예술입니다. 정말 잘튀겨졌어요. 그리고 양념도 골고루 잘 베어있어 너무 맛있...\n",
       "2                      교촌치킨은 역시 윙인것 같아요! 치킨도 맛있고 꽈배기도 맛있네요.\n",
       "3                                             배달도 빠르고 맛있었어요\n",
       "4         맛있었어요  근데 좀 마니 빠삭?해요ㅎㅎ\\n잘먹었습니다 서비스로 주신 꽈베기는 진짜...\n",
       "                                ...                        \n",
       "136790    다 먹어 버렸따.....⭐ 믿고먹는 BHC였으나 점바점을 알려준집....ㅠㅠ 시킨지...\n",
       "136791                                      맛있게 먹었습이다 감사합니다\n",
       "136792                                        맛나게먹었어요!감사합니다\n",
       "136793                                          소스 4개 감사합니다\n",
       "136794              쿠폰 써서 저렴하게 먹었어요 동네 프랜차이즈 중에 제일 나은 것 같아요\n",
       "Name: 1, Length: 136795, dtype: object"
      ]
     },
     "execution_count": 27,
     "metadata": {},
     "output_type": "execute_result"
    }
   ],
   "source": [
    "reviewdata[1]"
   ]
  },
  {
   "cell_type": "code",
   "execution_count": 28,
   "metadata": {},
   "outputs": [],
   "source": [
    "def review_delkey(reviewdata_):\n",
    "    reviewdata=reviewdata_.copy()\n",
    "    reviewdata.dropna()\n",
    "    del_key=['리뷰를 달','리뷰 달','리뷰 다','리뷰다']\n",
    "    \n",
    "    \n",
    "    for i in range(len(reviewdata)):\n",
    "        review=reviewdata.iloc[i][1]\n",
    "        #print('review',review)\n",
    "        #print(i)\n",
    "        for words in del_key:\n",
    "            \n",
    "            if words in review:\n",
    "                review=review.replace(words,' ')\n",
    "                #print('review',review)\n",
    "                reviewdata.iloc[i][1]=review\n",
    "                \n",
    "    return reviewdata"
   ]
  },
  {
   "cell_type": "code",
   "execution_count": 29,
   "metadata": {},
   "outputs": [],
   "source": [
    "#pd.option_context('display.float_format', '{:0.20f}'.format)\n",
    "df1=pd.DataFrame(columns=col,index=menu)\n",
    "df2=pd.DataFrame(columns=col,index=menu)\n",
    "df3=pd.DataFrame(columns=col,index=menu)"
   ]
  },
  {
   "cell_type": "markdown",
   "metadata": {},
   "source": [
    "**전체 data로 나눠주기 scoring**\n",
    "for menu_name in menu:\n",
    "    data=reviewdata[reviewdata[0]==menu_name]\n",
    "    data=pd.DataFrame(data)\n",
    "    #print(type(data),len)\n",
    "    \n",
    "    print(menu_name)\n",
    "    count=0\n",
    "    for taste in col:\n",
    "        print(taste)\n",
    "        df1[taste].loc[menu_name]=taste_scoring_by_menu_1(data,taste_dictionary.get(taste),neg_taste[count])\n",
    "        count+=1"
   ]
  },
  {
   "cell_type": "code",
   "execution_count": 30,
   "metadata": {},
   "outputs": [],
   "source": [
    "def scoring1_among_tasteReviews(reviewdata,menu,taste_dictionary,neg_taste):\n",
    "    \n",
    "    df1=pd.DataFrame(columns=col,index=menu)\n",
    "    print(reviewdata)\n",
    "    reviewdata=review_delkey(reviewdata)\n",
    "    \n",
    "    for menu_name in menu:\n",
    "        data=reviewdata[reviewdata[0]==menu_name]\n",
    "        #print(data.shape)\n",
    "        data=pd.DataFrame(data.to_numpy())\n",
    "        \n",
    "        taste_all=sum(list(taste_dictionary.values()),[])\n",
    "        #print(taste_all)\n",
    "        AllTasteReview=[]\n",
    "        for i in range(len(data)):\n",
    "            review=data[1].iloc[i]\n",
    "            #review=pd.DataFrame(review)\n",
    "            for j in taste_all:\n",
    "                if j in review:\n",
    "                    #count+=1\n",
    "                    #print(count)                    \n",
    "                    AllTasteReview.append(review)\n",
    "                    break\n",
    "        #print(menu_name,'AllTasteReview',len(AllTasteReview),'type',type(AllTasteReview))\n",
    "        AllTasteReview=pd.DataFrame(AllTasteReview)\n",
    "\n",
    "        if len(AllTasteReview)<10:\n",
    "            continue\n",
    "        \n",
    "    \n",
    "        #print(menu_name)\n",
    "        count=0\n",
    "        for taste in col:\n",
    "            #print(taste)\n",
    "            df1[taste].loc[menu_name]=taste_scoring_by_menu_1(AllTasteReview,taste_dictionary.get(taste),neg_taste[count])\n",
    "            count+=1\n",
    "            \n",
    "    df1=df1.dropna()\n",
    "    return df1"
   ]
  },
  {
   "cell_type": "code",
   "execution_count": 31,
   "metadata": {},
   "outputs": [
    {
     "name": "stdout",
     "output_type": "stream",
     "text": [
      "               0                                                  1  2  3\n",
      "0        교촌치킨_교촌                                      배달도 빠르고 좋았습니다  5  5\n",
      "1        교촌치킨_교촌  튀김이 예술입니다. 정말 잘튀겨졌어요. 그리고 양념도 골고루 잘 베어있어 너무 맛있...  5  5\n",
      "2        교촌치킨_교촌               교촌치킨은 역시 윙인것 같아요! 치킨도 맛있고 꽈배기도 맛있네요.  5  5\n",
      "3        교촌치킨_교촌                                      배달도 빠르고 맛있었어요  5  5\n",
      "4        교촌치킨_교촌  맛있었어요  근데 좀 마니 빠삭?해요ㅎㅎ\\n잘먹었습니다 서비스로 주신 꽈베기는 진짜...  5  4\n",
      "...          ...                                                ... .. ..\n",
      "136790  BHC_후라이드  다 먹어 버렸따.....⭐ 믿고먹는 BHC였으나 점바점을 알려준집....ㅠㅠ 시킨지...  4  3\n",
      "136791  BHC_후라이드                                    맛있게 먹었습이다 감사합니다  5  5\n",
      "136792  BHC_후라이드                                      맛나게먹었어요!감사합니다  5  5\n",
      "136793  BHC_후라이드                                        소스 4개 감사합니다  0  0\n",
      "136794  BHC_후라이드            쿠폰 써서 저렴하게 먹었어요 동네 프랜차이즈 중에 제일 나은 것 같아요  0  0\n",
      "\n",
      "[136795 rows x 4 columns]\n"
     ]
    },
    {
     "name": "stderr",
     "output_type": "stream",
     "text": [
      "<ipython-input-28-c000b6addec1>:16: SettingWithCopyWarning: \n",
      "A value is trying to be set on a copy of a slice from a DataFrame\n",
      "\n",
      "See the caveats in the documentation: https://pandas.pydata.org/pandas-docs/stable/user_guide/indexing.html#returning-a-view-versus-a-copy\n",
      "  reviewdata.iloc[i][1]=review\n"
     ]
    }
   ],
   "source": [
    "df1=scoring1_among_tasteReviews(reviewdata,menu,taste_dictionary,neg_taste)"
   ]
  },
  {
   "cell_type": "code",
   "execution_count": 32,
   "metadata": {},
   "outputs": [
    {
     "data": {
      "text/html": [
       "<div>\n",
       "<style scoped>\n",
       "    .dataframe tbody tr th:only-of-type {\n",
       "        vertical-align: middle;\n",
       "    }\n",
       "\n",
       "    .dataframe tbody tr th {\n",
       "        vertical-align: top;\n",
       "    }\n",
       "\n",
       "    .dataframe thead th {\n",
       "        text-align: right;\n",
       "    }\n",
       "</style>\n",
       "<table border=\"1\" class=\"dataframe\">\n",
       "  <thead>\n",
       "    <tr style=\"text-align: right;\">\n",
       "      <th></th>\n",
       "      <th>spicy</th>\n",
       "      <th>basak</th>\n",
       "      <th>dambek</th>\n",
       "      <th>sweet</th>\n",
       "      <th>salty</th>\n",
       "      <th>oily</th>\n",
       "      <th>choc</th>\n",
       "      <th>sweetsalty</th>\n",
       "    </tr>\n",
       "  </thead>\n",
       "  <tbody>\n",
       "    <tr>\n",
       "      <th>BBQ극한왕갈비</th>\n",
       "      <td>0.347826</td>\n",
       "      <td>0.289855</td>\n",
       "      <td>0.0</td>\n",
       "      <td>0.246377</td>\n",
       "      <td>0.144928</td>\n",
       "      <td>0.057971</td>\n",
       "      <td>0.0</td>\n",
       "      <td>0.028986</td>\n",
       "    </tr>\n",
       "    <tr>\n",
       "      <th>BBQ마라핫</th>\n",
       "      <td>0.78125</td>\n",
       "      <td>0.0625</td>\n",
       "      <td>0.0</td>\n",
       "      <td>0.03125</td>\n",
       "      <td>0.09375</td>\n",
       "      <td>0.0</td>\n",
       "      <td>0.0</td>\n",
       "      <td>0.0</td>\n",
       "    </tr>\n",
       "    <tr>\n",
       "      <th>BBQ매달구</th>\n",
       "      <td>0.9</td>\n",
       "      <td>0.0</td>\n",
       "      <td>0.0</td>\n",
       "      <td>0.5</td>\n",
       "      <td>0.1</td>\n",
       "      <td>0.0</td>\n",
       "      <td>0.0</td>\n",
       "      <td>0.0</td>\n",
       "    </tr>\n",
       "    <tr>\n",
       "      <th>BBQ메이플버터갈릭</th>\n",
       "      <td>0.055556</td>\n",
       "      <td>0.333333</td>\n",
       "      <td>0.055556</td>\n",
       "      <td>0.388889</td>\n",
       "      <td>0.0</td>\n",
       "      <td>0.444444</td>\n",
       "      <td>0.111111</td>\n",
       "      <td>0.111111</td>\n",
       "    </tr>\n",
       "    <tr>\n",
       "      <th>BBQ바삭칸</th>\n",
       "      <td>0.035714</td>\n",
       "      <td>0.892857</td>\n",
       "      <td>0.035714</td>\n",
       "      <td>0.017857</td>\n",
       "      <td>0.0</td>\n",
       "      <td>0.071429</td>\n",
       "      <td>0.0</td>\n",
       "      <td>0.0</td>\n",
       "    </tr>\n",
       "    <tr>\n",
       "      <th>...</th>\n",
       "      <td>...</td>\n",
       "      <td>...</td>\n",
       "      <td>...</td>\n",
       "      <td>...</td>\n",
       "      <td>...</td>\n",
       "      <td>...</td>\n",
       "      <td>...</td>\n",
       "      <td>...</td>\n",
       "    </tr>\n",
       "    <tr>\n",
       "      <th>처갓집_핫슈프림양념</th>\n",
       "      <td>0.708333</td>\n",
       "      <td>0.125</td>\n",
       "      <td>0.0</td>\n",
       "      <td>0.041667</td>\n",
       "      <td>0.016667</td>\n",
       "      <td>0.216667</td>\n",
       "      <td>0.008333</td>\n",
       "      <td>0.0</td>\n",
       "    </tr>\n",
       "    <tr>\n",
       "      <th>처갓집_후라이드</th>\n",
       "      <td>0.045977</td>\n",
       "      <td>0.781609</td>\n",
       "      <td>0.045977</td>\n",
       "      <td>0.0</td>\n",
       "      <td>0.011494</td>\n",
       "      <td>0.091954</td>\n",
       "      <td>0.045977</td>\n",
       "      <td>0.0</td>\n",
       "    </tr>\n",
       "    <tr>\n",
       "      <th>페리카나_누꼬</th>\n",
       "      <td>0.588235</td>\n",
       "      <td>0.117647</td>\n",
       "      <td>0.0</td>\n",
       "      <td>0.137255</td>\n",
       "      <td>0.117647</td>\n",
       "      <td>0.039216</td>\n",
       "      <td>0.0</td>\n",
       "      <td>0.039216</td>\n",
       "    </tr>\n",
       "    <tr>\n",
       "      <th>페리카나_로스핀</th>\n",
       "      <td>0.9</td>\n",
       "      <td>0.05</td>\n",
       "      <td>0.0</td>\n",
       "      <td>0.1</td>\n",
       "      <td>0.05</td>\n",
       "      <td>0.05</td>\n",
       "      <td>0.0</td>\n",
       "      <td>0.0</td>\n",
       "    </tr>\n",
       "    <tr>\n",
       "      <th>페리카나_매운양념</th>\n",
       "      <td>0.932432</td>\n",
       "      <td>0.094595</td>\n",
       "      <td>0.0</td>\n",
       "      <td>0.013514</td>\n",
       "      <td>0.0</td>\n",
       "      <td>0.013514</td>\n",
       "      <td>0.013514</td>\n",
       "      <td>0.0</td>\n",
       "    </tr>\n",
       "  </tbody>\n",
       "</table>\n",
       "<p>91 rows × 8 columns</p>\n",
       "</div>"
      ],
      "text/plain": [
       "               spicy     basak    dambek     sweet     salty      oily  \\\n",
       "BBQ극한왕갈비    0.347826  0.289855       0.0  0.246377  0.144928  0.057971   \n",
       "BBQ마라핫       0.78125    0.0625       0.0   0.03125   0.09375       0.0   \n",
       "BBQ매달구           0.9       0.0       0.0       0.5       0.1       0.0   \n",
       "BBQ메이플버터갈릭  0.055556  0.333333  0.055556  0.388889       0.0  0.444444   \n",
       "BBQ바삭칸      0.035714  0.892857  0.035714  0.017857       0.0  0.071429   \n",
       "...              ...       ...       ...       ...       ...       ...   \n",
       "처갓집_핫슈프림양념  0.708333     0.125       0.0  0.041667  0.016667  0.216667   \n",
       "처갓집_후라이드    0.045977  0.781609  0.045977       0.0  0.011494  0.091954   \n",
       "페리카나_누꼬     0.588235  0.117647       0.0  0.137255  0.117647  0.039216   \n",
       "페리카나_로스핀         0.9      0.05       0.0       0.1      0.05      0.05   \n",
       "페리카나_매운양념   0.932432  0.094595       0.0  0.013514       0.0  0.013514   \n",
       "\n",
       "                choc sweetsalty  \n",
       "BBQ극한왕갈비         0.0   0.028986  \n",
       "BBQ마라핫           0.0        0.0  \n",
       "BBQ매달구           0.0        0.0  \n",
       "BBQ메이플버터갈릭  0.111111   0.111111  \n",
       "BBQ바삭칸           0.0        0.0  \n",
       "...              ...        ...  \n",
       "처갓집_핫슈프림양념  0.008333        0.0  \n",
       "처갓집_후라이드    0.045977        0.0  \n",
       "페리카나_누꼬          0.0   0.039216  \n",
       "페리카나_로스핀         0.0        0.0  \n",
       "페리카나_매운양념   0.013514        0.0  \n",
       "\n",
       "[91 rows x 8 columns]"
      ]
     },
     "execution_count": 32,
     "metadata": {},
     "output_type": "execute_result"
    }
   ],
   "source": [
    "df1"
   ]
  },
  {
   "cell_type": "code",
   "execution_count": 33,
   "metadata": {},
   "outputs": [
    {
     "data": {
      "text/plain": [
       "False    91\n",
       "Name: spicy, dtype: int64"
      ]
     },
     "execution_count": 33,
     "metadata": {},
     "output_type": "execute_result"
    }
   ],
   "source": [
    "df1=df1.dropna()\n",
    "df1['spicy'].isnull().value_counts()"
   ]
  },
  {
   "cell_type": "code",
   "execution_count": 34,
   "metadata": {},
   "outputs": [],
   "source": [
    "#taste_all"
   ]
  },
  {
   "cell_type": "code",
   "execution_count": 35,
   "metadata": {},
   "outputs": [],
   "source": [
    "#len(AllTasteReview)"
   ]
  },
  {
   "cell_type": "code",
   "execution_count": 36,
   "metadata": {},
   "outputs": [
    {
     "data": {
      "text/html": [
       "<div>\n",
       "<style scoped>\n",
       "    .dataframe tbody tr th:only-of-type {\n",
       "        vertical-align: middle;\n",
       "    }\n",
       "\n",
       "    .dataframe tbody tr th {\n",
       "        vertical-align: top;\n",
       "    }\n",
       "\n",
       "    .dataframe thead th {\n",
       "        text-align: right;\n",
       "    }\n",
       "</style>\n",
       "<table border=\"1\" class=\"dataframe\">\n",
       "  <thead>\n",
       "    <tr style=\"text-align: right;\">\n",
       "      <th></th>\n",
       "      <th>spicy</th>\n",
       "      <th>basak</th>\n",
       "      <th>dambek</th>\n",
       "      <th>sweet</th>\n",
       "      <th>salty</th>\n",
       "      <th>oily</th>\n",
       "      <th>choc</th>\n",
       "      <th>sweetsalty</th>\n",
       "    </tr>\n",
       "  </thead>\n",
       "  <tbody>\n",
       "    <tr>\n",
       "      <th>BBQ극한왕갈비</th>\n",
       "      <td>0.347826</td>\n",
       "      <td>0.289855</td>\n",
       "      <td>0.0</td>\n",
       "      <td>0.246377</td>\n",
       "      <td>0.144928</td>\n",
       "      <td>0.057971</td>\n",
       "      <td>0.0</td>\n",
       "      <td>0.028986</td>\n",
       "    </tr>\n",
       "    <tr>\n",
       "      <th>BBQ마라핫</th>\n",
       "      <td>0.78125</td>\n",
       "      <td>0.0625</td>\n",
       "      <td>0.0</td>\n",
       "      <td>0.03125</td>\n",
       "      <td>0.09375</td>\n",
       "      <td>0.0</td>\n",
       "      <td>0.0</td>\n",
       "      <td>0.0</td>\n",
       "    </tr>\n",
       "    <tr>\n",
       "      <th>BBQ매달구</th>\n",
       "      <td>0.9</td>\n",
       "      <td>0.0</td>\n",
       "      <td>0.0</td>\n",
       "      <td>0.5</td>\n",
       "      <td>0.1</td>\n",
       "      <td>0.0</td>\n",
       "      <td>0.0</td>\n",
       "      <td>0.0</td>\n",
       "    </tr>\n",
       "    <tr>\n",
       "      <th>BBQ메이플버터갈릭</th>\n",
       "      <td>0.055556</td>\n",
       "      <td>0.333333</td>\n",
       "      <td>0.055556</td>\n",
       "      <td>0.388889</td>\n",
       "      <td>0.0</td>\n",
       "      <td>0.444444</td>\n",
       "      <td>0.111111</td>\n",
       "      <td>0.111111</td>\n",
       "    </tr>\n",
       "    <tr>\n",
       "      <th>BBQ바삭칸</th>\n",
       "      <td>0.035714</td>\n",
       "      <td>0.892857</td>\n",
       "      <td>0.035714</td>\n",
       "      <td>0.017857</td>\n",
       "      <td>0.0</td>\n",
       "      <td>0.071429</td>\n",
       "      <td>0.0</td>\n",
       "      <td>0.0</td>\n",
       "    </tr>\n",
       "    <tr>\n",
       "      <th>...</th>\n",
       "      <td>...</td>\n",
       "      <td>...</td>\n",
       "      <td>...</td>\n",
       "      <td>...</td>\n",
       "      <td>...</td>\n",
       "      <td>...</td>\n",
       "      <td>...</td>\n",
       "      <td>...</td>\n",
       "    </tr>\n",
       "    <tr>\n",
       "      <th>처갓집_핫슈프림양념</th>\n",
       "      <td>0.708333</td>\n",
       "      <td>0.125</td>\n",
       "      <td>0.0</td>\n",
       "      <td>0.041667</td>\n",
       "      <td>0.016667</td>\n",
       "      <td>0.216667</td>\n",
       "      <td>0.008333</td>\n",
       "      <td>0.0</td>\n",
       "    </tr>\n",
       "    <tr>\n",
       "      <th>처갓집_후라이드</th>\n",
       "      <td>0.045977</td>\n",
       "      <td>0.781609</td>\n",
       "      <td>0.045977</td>\n",
       "      <td>0.0</td>\n",
       "      <td>0.011494</td>\n",
       "      <td>0.091954</td>\n",
       "      <td>0.045977</td>\n",
       "      <td>0.0</td>\n",
       "    </tr>\n",
       "    <tr>\n",
       "      <th>페리카나_누꼬</th>\n",
       "      <td>0.588235</td>\n",
       "      <td>0.117647</td>\n",
       "      <td>0.0</td>\n",
       "      <td>0.137255</td>\n",
       "      <td>0.117647</td>\n",
       "      <td>0.039216</td>\n",
       "      <td>0.0</td>\n",
       "      <td>0.039216</td>\n",
       "    </tr>\n",
       "    <tr>\n",
       "      <th>페리카나_로스핀</th>\n",
       "      <td>0.9</td>\n",
       "      <td>0.05</td>\n",
       "      <td>0.0</td>\n",
       "      <td>0.1</td>\n",
       "      <td>0.05</td>\n",
       "      <td>0.05</td>\n",
       "      <td>0.0</td>\n",
       "      <td>0.0</td>\n",
       "    </tr>\n",
       "    <tr>\n",
       "      <th>페리카나_매운양념</th>\n",
       "      <td>0.932432</td>\n",
       "      <td>0.094595</td>\n",
       "      <td>0.0</td>\n",
       "      <td>0.013514</td>\n",
       "      <td>0.0</td>\n",
       "      <td>0.013514</td>\n",
       "      <td>0.013514</td>\n",
       "      <td>0.0</td>\n",
       "    </tr>\n",
       "  </tbody>\n",
       "</table>\n",
       "<p>91 rows × 8 columns</p>\n",
       "</div>"
      ],
      "text/plain": [
       "               spicy     basak    dambek     sweet     salty      oily  \\\n",
       "BBQ극한왕갈비    0.347826  0.289855       0.0  0.246377  0.144928  0.057971   \n",
       "BBQ마라핫       0.78125    0.0625       0.0   0.03125   0.09375       0.0   \n",
       "BBQ매달구           0.9       0.0       0.0       0.5       0.1       0.0   \n",
       "BBQ메이플버터갈릭  0.055556  0.333333  0.055556  0.388889       0.0  0.444444   \n",
       "BBQ바삭칸      0.035714  0.892857  0.035714  0.017857       0.0  0.071429   \n",
       "...              ...       ...       ...       ...       ...       ...   \n",
       "처갓집_핫슈프림양념  0.708333     0.125       0.0  0.041667  0.016667  0.216667   \n",
       "처갓집_후라이드    0.045977  0.781609  0.045977       0.0  0.011494  0.091954   \n",
       "페리카나_누꼬     0.588235  0.117647       0.0  0.137255  0.117647  0.039216   \n",
       "페리카나_로스핀         0.9      0.05       0.0       0.1      0.05      0.05   \n",
       "페리카나_매운양념   0.932432  0.094595       0.0  0.013514       0.0  0.013514   \n",
       "\n",
       "                choc sweetsalty  \n",
       "BBQ극한왕갈비         0.0   0.028986  \n",
       "BBQ마라핫           0.0        0.0  \n",
       "BBQ매달구           0.0        0.0  \n",
       "BBQ메이플버터갈릭  0.111111   0.111111  \n",
       "BBQ바삭칸           0.0        0.0  \n",
       "...              ...        ...  \n",
       "처갓집_핫슈프림양념  0.008333        0.0  \n",
       "처갓집_후라이드    0.045977        0.0  \n",
       "페리카나_누꼬          0.0   0.039216  \n",
       "페리카나_로스핀         0.0        0.0  \n",
       "페리카나_매운양념   0.013514        0.0  \n",
       "\n",
       "[91 rows x 8 columns]"
      ]
     },
     "execution_count": 36,
     "metadata": {},
     "output_type": "execute_result"
    }
   ],
   "source": [
    "df1"
   ]
  },
  {
   "cell_type": "code",
   "execution_count": 37,
   "metadata": {
    "scrolled": true
   },
   "outputs": [],
   "source": [
    "#scoring1=df1.copy()\n",
    "#scoring1.reset_index(drop=True, inplace=False)"
   ]
  },
  {
   "cell_type": "code",
   "execution_count": 38,
   "metadata": {},
   "outputs": [
    {
     "data": {
      "image/png": "[encoded data removed]",
      "text/plain": [
       "<Figure size 1440x1080 with 9 Axes>"
      ]
     },
     "metadata": {
      "needs_background": "light"
     },
     "output_type": "display_data"
    }
   ],
   "source": [
    "df1=df1.apply(pd.to_numeric)\n",
    "df1.hist(bins=50, figsize=(20,15))\n",
    "plt.show()"
   ]
  },
  {
   "cell_type": "code",
   "execution_count": 39,
   "metadata": {},
   "outputs": [
    {
     "name": "stdout",
     "output_type": "stream",
     "text": [
      "zero values per each taste\n",
      "spicy : 5 => 4.385964912280702 %\n",
      "basak : 2 => 1.7543859649122806 %\n",
      "dambek : 50 => 43.85964912280702 %\n",
      "sweet : 15 => 13.157894736842104 %\n",
      "salty : 18 => 15.789473684210526 %\n",
      "oily : 12 => 10.526315789473685 %\n",
      "choc : 23 => 20.17543859649123 %\n",
      "sweetsalty : 50 => 43.85964912280702 %\n"
     ]
    }
   ],
   "source": [
    "# 0 value가 나오는 메뉴 개수 \n",
    "print('zero values per each taste')\n",
    "for i in col:\n",
    "    print(i,':',(df1[i]==0).sum(),'=>',(df1[i]==0).sum()*100/len(menu),'%')"
   ]
  },
  {
   "cell_type": "code",
   "execution_count": 40,
   "metadata": {},
   "outputs": [],
   "source": [
    "def scoring2_among_tasteReviews(reviewdata,menu,taste_dictionary,neg_taste):\n",
    "    \n",
    "    df=pd.DataFrame(columns=col,index=menu)\n",
    "    reviewdata=review_delkey(reviewdata)\n",
    "    \n",
    "    for menu_name in menu:\n",
    "        data=reviewdata[reviewdata[0]==menu_name]\n",
    "        #print(data.shape)\n",
    "        data=pd.DataFrame(data.to_numpy())\n",
    "        \n",
    "        taste_all=sum(list(taste_dictionary.values()),[])\n",
    "        #print(taste_all)\n",
    "        AllTasteReview=[]\n",
    "        for i in range(len(data)):\n",
    "            review=data[1].iloc[i]\n",
    "            #review=pd.DataFrame(review)\n",
    "            for j in taste_all:\n",
    "                if j in review:\n",
    "                    #count+=1\n",
    "                    #print(count)                    \n",
    "                    AllTasteReview.append(review)\n",
    "                    break\n",
    "        #print(menu_name,'AllTasteReview',len(AllTasteReview),'type',type(AllTasteReview))\n",
    "        AllTasteReview=pd.DataFrame(AllTasteReview)\n",
    "\n",
    "        if len(AllTasteReview)<10:\n",
    "            continue\n",
    "        \n",
    "    \n",
    "        ##print(menu_name)\n",
    "        count=0\n",
    "        for taste in col:\n",
    "            #print(taste)\n",
    "            df[taste].loc[menu_name]=taste_scoring_by_menu_2(AllTasteReview,taste_dictionary.get(taste),neg_taste[count])\n",
    "            count+=1\n",
    "            \n",
    "    df=df.dropna()\n",
    "    return df"
   ]
  },
  {
   "cell_type": "code",
   "execution_count": 41,
   "metadata": {},
   "outputs": [
    {
     "name": "stderr",
     "output_type": "stream",
     "text": [
      "<ipython-input-28-c000b6addec1>:16: SettingWithCopyWarning: \n",
      "A value is trying to be set on a copy of a slice from a DataFrame\n",
      "\n",
      "See the caveats in the documentation: https://pandas.pydata.org/pandas-docs/stable/user_guide/indexing.html#returning-a-view-versus-a-copy\n",
      "  reviewdata.iloc[i][1]=review\n"
     ]
    }
   ],
   "source": [
    "df2=scoring2_among_tasteReviews(reviewdata,menu,taste_dictionary,neg_taste)"
   ]
  },
  {
   "cell_type": "code",
   "execution_count": 42,
   "metadata": {},
   "outputs": [
    {
     "data": {
      "text/html": [
       "<div>\n",
       "<style scoped>\n",
       "    .dataframe tbody tr th:only-of-type {\n",
       "        vertical-align: middle;\n",
       "    }\n",
       "\n",
       "    .dataframe tbody tr th {\n",
       "        vertical-align: top;\n",
       "    }\n",
       "\n",
       "    .dataframe thead th {\n",
       "        text-align: right;\n",
       "    }\n",
       "</style>\n",
       "<table border=\"1\" class=\"dataframe\">\n",
       "  <thead>\n",
       "    <tr style=\"text-align: right;\">\n",
       "      <th></th>\n",
       "      <th>spicy</th>\n",
       "      <th>basak</th>\n",
       "      <th>dambek</th>\n",
       "      <th>sweet</th>\n",
       "      <th>salty</th>\n",
       "      <th>oily</th>\n",
       "      <th>choc</th>\n",
       "      <th>sweetsalty</th>\n",
       "    </tr>\n",
       "  </thead>\n",
       "  <tbody>\n",
       "    <tr>\n",
       "      <th>BBQ극한왕갈비</th>\n",
       "      <td>0.275362</td>\n",
       "      <td>0.289855</td>\n",
       "      <td>0.0</td>\n",
       "      <td>0.246377</td>\n",
       "      <td>0.144928</td>\n",
       "      <td>0.057971</td>\n",
       "      <td>0.0</td>\n",
       "      <td>0.028986</td>\n",
       "    </tr>\n",
       "    <tr>\n",
       "      <th>BBQ마라핫</th>\n",
       "      <td>0.6875</td>\n",
       "      <td>0.03125</td>\n",
       "      <td>0.0</td>\n",
       "      <td>0.03125</td>\n",
       "      <td>0.09375</td>\n",
       "      <td>0.0</td>\n",
       "      <td>0.0</td>\n",
       "      <td>0.0</td>\n",
       "    </tr>\n",
       "    <tr>\n",
       "      <th>BBQ매달구</th>\n",
       "      <td>0.9</td>\n",
       "      <td>0.0</td>\n",
       "      <td>0.0</td>\n",
       "      <td>0.5</td>\n",
       "      <td>0.1</td>\n",
       "      <td>0.0</td>\n",
       "      <td>0.0</td>\n",
       "      <td>0.0</td>\n",
       "    </tr>\n",
       "    <tr>\n",
       "      <th>BBQ메이플버터갈릭</th>\n",
       "      <td>0.055556</td>\n",
       "      <td>0.333333</td>\n",
       "      <td>0.055556</td>\n",
       "      <td>0.388889</td>\n",
       "      <td>0.0</td>\n",
       "      <td>0.388889</td>\n",
       "      <td>0.111111</td>\n",
       "      <td>0.111111</td>\n",
       "    </tr>\n",
       "    <tr>\n",
       "      <th>BBQ바삭칸</th>\n",
       "      <td>0.035714</td>\n",
       "      <td>0.857143</td>\n",
       "      <td>0.035714</td>\n",
       "      <td>0.017857</td>\n",
       "      <td>0.0</td>\n",
       "      <td>0.071429</td>\n",
       "      <td>0.0</td>\n",
       "      <td>0.0</td>\n",
       "    </tr>\n",
       "    <tr>\n",
       "      <th>...</th>\n",
       "      <td>...</td>\n",
       "      <td>...</td>\n",
       "      <td>...</td>\n",
       "      <td>...</td>\n",
       "      <td>...</td>\n",
       "      <td>...</td>\n",
       "      <td>...</td>\n",
       "      <td>...</td>\n",
       "    </tr>\n",
       "    <tr>\n",
       "      <th>처갓집_핫슈프림양념</th>\n",
       "      <td>0.666667</td>\n",
       "      <td>0.125</td>\n",
       "      <td>0.0</td>\n",
       "      <td>0.041667</td>\n",
       "      <td>0.016667</td>\n",
       "      <td>0.2</td>\n",
       "      <td>0.008333</td>\n",
       "      <td>0.0</td>\n",
       "    </tr>\n",
       "    <tr>\n",
       "      <th>처갓집_후라이드</th>\n",
       "      <td>0.045977</td>\n",
       "      <td>0.758621</td>\n",
       "      <td>0.045977</td>\n",
       "      <td>0.0</td>\n",
       "      <td>0.0</td>\n",
       "      <td>0.045977</td>\n",
       "      <td>0.045977</td>\n",
       "      <td>0.0</td>\n",
       "    </tr>\n",
       "    <tr>\n",
       "      <th>페리카나_누꼬</th>\n",
       "      <td>0.568627</td>\n",
       "      <td>0.117647</td>\n",
       "      <td>0.0</td>\n",
       "      <td>0.137255</td>\n",
       "      <td>0.117647</td>\n",
       "      <td>0.039216</td>\n",
       "      <td>0.0</td>\n",
       "      <td>0.039216</td>\n",
       "    </tr>\n",
       "    <tr>\n",
       "      <th>페리카나_로스핀</th>\n",
       "      <td>0.9</td>\n",
       "      <td>0.05</td>\n",
       "      <td>0.0</td>\n",
       "      <td>0.1</td>\n",
       "      <td>0.05</td>\n",
       "      <td>0.05</td>\n",
       "      <td>0.0</td>\n",
       "      <td>0.0</td>\n",
       "    </tr>\n",
       "    <tr>\n",
       "      <th>페리카나_매운양념</th>\n",
       "      <td>0.905405</td>\n",
       "      <td>0.094595</td>\n",
       "      <td>0.0</td>\n",
       "      <td>0.013514</td>\n",
       "      <td>0.0</td>\n",
       "      <td>0.013514</td>\n",
       "      <td>0.013514</td>\n",
       "      <td>0.0</td>\n",
       "    </tr>\n",
       "  </tbody>\n",
       "</table>\n",
       "<p>91 rows × 8 columns</p>\n",
       "</div>"
      ],
      "text/plain": [
       "               spicy     basak    dambek     sweet     salty      oily  \\\n",
       "BBQ극한왕갈비    0.275362  0.289855       0.0  0.246377  0.144928  0.057971   \n",
       "BBQ마라핫        0.6875   0.03125       0.0   0.03125   0.09375       0.0   \n",
       "BBQ매달구           0.9       0.0       0.0       0.5       0.1       0.0   \n",
       "BBQ메이플버터갈릭  0.055556  0.333333  0.055556  0.388889       0.0  0.388889   \n",
       "BBQ바삭칸      0.035714  0.857143  0.035714  0.017857       0.0  0.071429   \n",
       "...              ...       ...       ...       ...       ...       ...   \n",
       "처갓집_핫슈프림양념  0.666667     0.125       0.0  0.041667  0.016667       0.2   \n",
       "처갓집_후라이드    0.045977  0.758621  0.045977       0.0       0.0  0.045977   \n",
       "페리카나_누꼬     0.568627  0.117647       0.0  0.137255  0.117647  0.039216   \n",
       "페리카나_로스핀         0.9      0.05       0.0       0.1      0.05      0.05   \n",
       "페리카나_매운양념   0.905405  0.094595       0.0  0.013514       0.0  0.013514   \n",
       "\n",
       "                choc sweetsalty  \n",
       "BBQ극한왕갈비         0.0   0.028986  \n",
       "BBQ마라핫           0.0        0.0  \n",
       "BBQ매달구           0.0        0.0  \n",
       "BBQ메이플버터갈릭  0.111111   0.111111  \n",
       "BBQ바삭칸           0.0        0.0  \n",
       "...              ...        ...  \n",
       "처갓집_핫슈프림양념  0.008333        0.0  \n",
       "처갓집_후라이드    0.045977        0.0  \n",
       "페리카나_누꼬          0.0   0.039216  \n",
       "페리카나_로스핀         0.0        0.0  \n",
       "페리카나_매운양념   0.013514        0.0  \n",
       "\n",
       "[91 rows x 8 columns]"
      ]
     },
     "execution_count": 42,
     "metadata": {},
     "output_type": "execute_result"
    }
   ],
   "source": [
    "df2"
   ]
  },
  {
   "cell_type": "code",
   "execution_count": 43,
   "metadata": {},
   "outputs": [
    {
     "data": {
      "image/png": "[encoded data removed]",
      "text/plain": [
       "<Figure size 1440x1080 with 9 Axes>"
      ]
     },
     "metadata": {
      "needs_background": "light"
     },
     "output_type": "display_data"
    }
   ],
   "source": [
    "df2=df2.apply(pd.to_numeric)\n",
    "df2.hist(bins=50, figsize=(20,15))\n",
    "plt.show()"
   ]
  },
  {
   "cell_type": "code",
   "execution_count": 44,
   "metadata": {},
   "outputs": [],
   "source": [
    "def scoring3_among_tasteReviews(reviewdata,menu,taste_dictionary,neg_taste):\n",
    "    \n",
    "    df=pd.DataFrame(columns=col,index=menu)\n",
    "    reviewdata=review_delkey(reviewdata)\n",
    "    \n",
    "    for menu_name in menu:\n",
    "        data=reviewdata[reviewdata[0]==menu_name]\n",
    "        #print(data.shape)\n",
    "        data=pd.DataFrame(data.to_numpy())\n",
    "        \n",
    "        taste_all=sum(list(taste_dictionary.values()),[])\n",
    "        #print(taste_all)\n",
    "        AllTasteReview=[]\n",
    "        for i in range(len(data)):\n",
    "            review=data[1].iloc[i]\n",
    "            #review=pd.DataFrame(review)\n",
    "            for j in taste_all:\n",
    "                if j in review:\n",
    "                    #count+=1\n",
    "                    #print(count)                    \n",
    "                    AllTasteReview.append(review)\n",
    "                    break\n",
    "        #print(menu_name,'AllTasteReview',len(AllTasteReview),'type',type(AllTasteReview))\n",
    "        AllTasteReview=pd.DataFrame(AllTasteReview)\n",
    "\n",
    "        if len(AllTasteReview)<10:\n",
    "            continue\n",
    "        \n",
    "    \n",
    "        ##print(menu_name)\n",
    "        count=0\n",
    "        for taste in col:\n",
    "            #print(taste)\n",
    "            df[taste].loc[menu_name]=taste_scoring_by_menu_3(AllTasteReview,taste_dictionary.get(taste),neg_taste[count])\n",
    "            count+=1\n",
    "            \n",
    "    df=df.dropna()\n",
    "    return df"
   ]
  },
  {
   "cell_type": "code",
   "execution_count": 45,
   "metadata": {},
   "outputs": [
    {
     "name": "stderr",
     "output_type": "stream",
     "text": [
      "<ipython-input-28-c000b6addec1>:16: SettingWithCopyWarning: \n",
      "A value is trying to be set on a copy of a slice from a DataFrame\n",
      "\n",
      "See the caveats in the documentation: https://pandas.pydata.org/pandas-docs/stable/user_guide/indexing.html#returning-a-view-versus-a-copy\n",
      "  reviewdata.iloc[i][1]=review\n"
     ]
    }
   ],
   "source": [
    "df3=scoring3_among_tasteReviews(reviewdata,menu,taste_dictionary,neg_taste)"
   ]
  },
  {
   "cell_type": "code",
   "execution_count": 46,
   "metadata": {},
   "outputs": [
    {
     "data": {
      "text/html": [
       "<div>\n",
       "<style scoped>\n",
       "    .dataframe tbody tr th:only-of-type {\n",
       "        vertical-align: middle;\n",
       "    }\n",
       "\n",
       "    .dataframe tbody tr th {\n",
       "        vertical-align: top;\n",
       "    }\n",
       "\n",
       "    .dataframe thead th {\n",
       "        text-align: right;\n",
       "    }\n",
       "</style>\n",
       "<table border=\"1\" class=\"dataframe\">\n",
       "  <thead>\n",
       "    <tr style=\"text-align: right;\">\n",
       "      <th></th>\n",
       "      <th>spicy</th>\n",
       "      <th>basak</th>\n",
       "      <th>dambek</th>\n",
       "      <th>sweet</th>\n",
       "      <th>salty</th>\n",
       "      <th>oily</th>\n",
       "      <th>choc</th>\n",
       "      <th>sweetsalty</th>\n",
       "    </tr>\n",
       "  </thead>\n",
       "  <tbody>\n",
       "    <tr>\n",
       "      <th>BBQ극한왕갈비</th>\n",
       "      <td>0.449275</td>\n",
       "      <td>0.333333</td>\n",
       "      <td>0.0</td>\n",
       "      <td>0.275362</td>\n",
       "      <td>0.144928</td>\n",
       "      <td>0.057971</td>\n",
       "      <td>0.0</td>\n",
       "      <td>0.028986</td>\n",
       "    </tr>\n",
       "    <tr>\n",
       "      <th>BBQ마라핫</th>\n",
       "      <td>0.96875</td>\n",
       "      <td>0.09375</td>\n",
       "      <td>0.0</td>\n",
       "      <td>0.03125</td>\n",
       "      <td>0.125</td>\n",
       "      <td>0.0</td>\n",
       "      <td>0.0</td>\n",
       "      <td>0.0</td>\n",
       "    </tr>\n",
       "    <tr>\n",
       "      <th>BBQ매달구</th>\n",
       "      <td>0.9</td>\n",
       "      <td>0.0</td>\n",
       "      <td>0.0</td>\n",
       "      <td>0.5</td>\n",
       "      <td>0.1</td>\n",
       "      <td>0.0</td>\n",
       "      <td>0.0</td>\n",
       "      <td>0.0</td>\n",
       "    </tr>\n",
       "    <tr>\n",
       "      <th>BBQ메이플버터갈릭</th>\n",
       "      <td>0.055556</td>\n",
       "      <td>0.333333</td>\n",
       "      <td>0.055556</td>\n",
       "      <td>0.5</td>\n",
       "      <td>0.0</td>\n",
       "      <td>0.555556</td>\n",
       "      <td>0.111111</td>\n",
       "      <td>0.111111</td>\n",
       "    </tr>\n",
       "    <tr>\n",
       "      <th>BBQ바삭칸</th>\n",
       "      <td>0.035714</td>\n",
       "      <td>1.017857</td>\n",
       "      <td>0.035714</td>\n",
       "      <td>0.017857</td>\n",
       "      <td>0.0</td>\n",
       "      <td>0.089286</td>\n",
       "      <td>0.0</td>\n",
       "      <td>0.0</td>\n",
       "    </tr>\n",
       "    <tr>\n",
       "      <th>...</th>\n",
       "      <td>...</td>\n",
       "      <td>...</td>\n",
       "      <td>...</td>\n",
       "      <td>...</td>\n",
       "      <td>...</td>\n",
       "      <td>...</td>\n",
       "      <td>...</td>\n",
       "      <td>...</td>\n",
       "    </tr>\n",
       "    <tr>\n",
       "      <th>처갓집_핫슈프림양념</th>\n",
       "      <td>0.783333</td>\n",
       "      <td>0.125</td>\n",
       "      <td>0.0</td>\n",
       "      <td>0.041667</td>\n",
       "      <td>0.016667</td>\n",
       "      <td>0.241667</td>\n",
       "      <td>0.016667</td>\n",
       "      <td>0.0</td>\n",
       "    </tr>\n",
       "    <tr>\n",
       "      <th>처갓집_후라이드</th>\n",
       "      <td>0.045977</td>\n",
       "      <td>0.862069</td>\n",
       "      <td>0.045977</td>\n",
       "      <td>0.0</td>\n",
       "      <td>0.022989</td>\n",
       "      <td>0.137931</td>\n",
       "      <td>0.045977</td>\n",
       "      <td>0.0</td>\n",
       "    </tr>\n",
       "    <tr>\n",
       "      <th>페리카나_누꼬</th>\n",
       "      <td>0.627451</td>\n",
       "      <td>0.117647</td>\n",
       "      <td>0.0</td>\n",
       "      <td>0.156863</td>\n",
       "      <td>0.137255</td>\n",
       "      <td>0.039216</td>\n",
       "      <td>0.0</td>\n",
       "      <td>0.039216</td>\n",
       "    </tr>\n",
       "    <tr>\n",
       "      <th>페리카나_로스핀</th>\n",
       "      <td>0.9</td>\n",
       "      <td>0.05</td>\n",
       "      <td>0.0</td>\n",
       "      <td>0.1</td>\n",
       "      <td>0.05</td>\n",
       "      <td>0.05</td>\n",
       "      <td>0.0</td>\n",
       "      <td>0.0</td>\n",
       "    </tr>\n",
       "    <tr>\n",
       "      <th>페리카나_매운양념</th>\n",
       "      <td>1.054054</td>\n",
       "      <td>0.108108</td>\n",
       "      <td>0.0</td>\n",
       "      <td>0.027027</td>\n",
       "      <td>0.0</td>\n",
       "      <td>0.013514</td>\n",
       "      <td>0.013514</td>\n",
       "      <td>0.0</td>\n",
       "    </tr>\n",
       "  </tbody>\n",
       "</table>\n",
       "<p>91 rows × 8 columns</p>\n",
       "</div>"
      ],
      "text/plain": [
       "               spicy     basak    dambek     sweet     salty      oily  \\\n",
       "BBQ극한왕갈비    0.449275  0.333333       0.0  0.275362  0.144928  0.057971   \n",
       "BBQ마라핫       0.96875   0.09375       0.0   0.03125     0.125       0.0   \n",
       "BBQ매달구           0.9       0.0       0.0       0.5       0.1       0.0   \n",
       "BBQ메이플버터갈릭  0.055556  0.333333  0.055556       0.5       0.0  0.555556   \n",
       "BBQ바삭칸      0.035714  1.017857  0.035714  0.017857       0.0  0.089286   \n",
       "...              ...       ...       ...       ...       ...       ...   \n",
       "처갓집_핫슈프림양념  0.783333     0.125       0.0  0.041667  0.016667  0.241667   \n",
       "처갓집_후라이드    0.045977  0.862069  0.045977       0.0  0.022989  0.137931   \n",
       "페리카나_누꼬     0.627451  0.117647       0.0  0.156863  0.137255  0.039216   \n",
       "페리카나_로스핀         0.9      0.05       0.0       0.1      0.05      0.05   \n",
       "페리카나_매운양념   1.054054  0.108108       0.0  0.027027       0.0  0.013514   \n",
       "\n",
       "                choc sweetsalty  \n",
       "BBQ극한왕갈비         0.0   0.028986  \n",
       "BBQ마라핫           0.0        0.0  \n",
       "BBQ매달구           0.0        0.0  \n",
       "BBQ메이플버터갈릭  0.111111   0.111111  \n",
       "BBQ바삭칸           0.0        0.0  \n",
       "...              ...        ...  \n",
       "처갓집_핫슈프림양념  0.016667        0.0  \n",
       "처갓집_후라이드    0.045977        0.0  \n",
       "페리카나_누꼬          0.0   0.039216  \n",
       "페리카나_로스핀         0.0        0.0  \n",
       "페리카나_매운양념   0.013514        0.0  \n",
       "\n",
       "[91 rows x 8 columns]"
      ]
     },
     "execution_count": 46,
     "metadata": {},
     "output_type": "execute_result"
    }
   ],
   "source": [
    "df3"
   ]
  },
  {
   "cell_type": "code",
   "execution_count": 47,
   "metadata": {},
   "outputs": [
    {
     "data": {
      "image/png": "[encoded data removed]",
      "text/plain": [
       "<Figure size 1440x1080 with 9 Axes>"
      ]
     },
     "metadata": {
      "needs_background": "light"
     },
     "output_type": "display_data"
    }
   ],
   "source": [
    "df3=df3.apply(pd.to_numeric)\n",
    "df3.hist(bins=50, figsize=(20,15))\n",
    "plt.show()"
   ]
  },
  {
   "cell_type": "markdown",
   "metadata": {},
   "source": [
    "data=reviewdata[reviewdata[0]=='BHC_맛초킹']\n",
    "data=pd.DataFrame(data)\n",
    "taste_all=sum(list(taste_dictionary.values()),[])\n",
    "del_key=['리뷰를 달','리뷰 달','리뷰 다','리뷰다''진짜네','진짜다']\n",
    "\n",
    "count=0\n",
    "AllTasteReview=[]\n",
    "for i in range(len(data)) :\n",
    "    review=data[1].iloc[i]\n",
    "    for j in taste_all:\n",
    "        if j in review:\n",
    "            count+=1\n",
    "            print('count:',count)\n",
    "            AllTasteReview.append(review)\n",
    "            break\n",
    "print('AllTasteReview:',AllTasteReview,'length: ',len(AllTasteReview))\n"
   ]
  },
  {
   "cell_type": "markdown",
   "metadata": {},
   "source": [
    "for menu_name in menu:\n",
    "    data=reviewdata[reviewdata[0]==menu_name]\n",
    "    data=pd.DataFrame(data)\n",
    "    #print(type(data),len)\n",
    "    \n",
    "    #print(menu_name)\n",
    "    count=0\n",
    "    for taste in col:\n",
    "        #print(taste)\n",
    "        df2[taste].loc[menu_name]=taste_scoring_by_menu_2(data,taste_dictionary.get(taste),neg_taste[count],delete_keywords[count])\n",
    "        count+=1"
   ]
  },
  {
   "cell_type": "markdown",
   "metadata": {},
   "source": [
    "for menu_name in menu:\n",
    "    data=reviewdata[reviewdata[0]==menu_name]\n",
    "    data=pd.DataFrame(data)\n",
    "    #print(type(data),len)\n",
    "    \n",
    "    #print(menu_name)\n",
    "    count=0\n",
    "    for taste in col:\n",
    "        #print(taste)\n",
    "        df3[taste].loc[menu_name]=taste_scoring_by_menu_3(data,taste_dictionary.get(taste),neg_taste[count],delete_keywords[count])\n",
    "        count+=1"
   ]
  },
  {
   "cell_type": "markdown",
   "metadata": {},
   "source": [
    "# Define PCA function"
   ]
  },
  {
   "cell_type": "code",
   "execution_count": 48,
   "metadata": {},
   "outputs": [],
   "source": [
    "from sklearn.decomposition import PCA\n",
    "\n",
    "def Pca(dataframe,k): # k는 주성분의 갯수 \n",
    "    pca1=PCA(n_components=k)\n",
    "    pca1.fit(dataframe)\n",
    "    dataframe_=pd.DataFrame(pca1.transform(dataframe),index=df1.index.tolist())\n",
    "    return dataframe_"
   ]
  },
  {
   "cell_type": "code",
   "execution_count": 49,
   "metadata": {},
   "outputs": [
    {
     "data": {
      "text/plain": [
       "array([[<AxesSubplot:title={'center':'spicy'}>,\n",
       "        <AxesSubplot:title={'center':'basak'}>,\n",
       "        <AxesSubplot:title={'center':'dambek'}>],\n",
       "       [<AxesSubplot:title={'center':'sweet'}>,\n",
       "        <AxesSubplot:title={'center':'salty'}>,\n",
       "        <AxesSubplot:title={'center':'oily'}>],\n",
       "       [<AxesSubplot:title={'center':'choc'}>,\n",
       "        <AxesSubplot:title={'center':'sweetsalty'}>, <AxesSubplot:>]],\n",
       "      dtype=object)"
      ]
     },
     "execution_count": 49,
     "metadata": {},
     "output_type": "execute_result"
    },
    {
     "data": {
      "image/png": "[encoded data removed]",
      "text/plain": [
       "<Figure size 720x540 with 9 Axes>"
      ]
     },
     "metadata": {
      "needs_background": "light"
     },
     "output_type": "display_data"
    }
   ],
   "source": [
    "df1.hist(bins=50,figsize=(10,7.5))"
   ]
  },
  {
   "cell_type": "code",
   "execution_count": 50,
   "metadata": {},
   "outputs": [
    {
     "data": {
      "text/plain": [
       "array([[<AxesSubplot:title={'center':'0'}>,\n",
       "        <AxesSubplot:title={'center':'1'}>,\n",
       "        <AxesSubplot:title={'center':'2'}>],\n",
       "       [<AxesSubplot:title={'center':'3'}>,\n",
       "        <AxesSubplot:title={'center':'4'}>,\n",
       "        <AxesSubplot:title={'center':'5'}>],\n",
       "       [<AxesSubplot:title={'center':'6'}>,\n",
       "        <AxesSubplot:title={'center':'7'}>, <AxesSubplot:>]], dtype=object)"
      ]
     },
     "execution_count": 50,
     "metadata": {},
     "output_type": "execute_result"
    },
    {
     "data": {
      "image/png": "[encoded data removed]",
      "text/plain": [
       "<Figure size 720x540 with 9 Axes>"
      ]
     },
     "metadata": {
      "needs_background": "light"
     },
     "output_type": "display_data"
    }
   ],
   "source": [
    "Pca(df1,8).hist(bins=50,figsize=(10,7.5))"
   ]
  },
  {
   "cell_type": "code",
   "execution_count": 51,
   "metadata": {},
   "outputs": [
    {
     "data": {
      "text/plain": [
       "array([[<AxesSubplot:title={'center':'0'}>,\n",
       "        <AxesSubplot:title={'center':'1'}>,\n",
       "        <AxesSubplot:title={'center':'2'}>],\n",
       "       [<AxesSubplot:title={'center':'3'}>,\n",
       "        <AxesSubplot:title={'center':'4'}>,\n",
       "        <AxesSubplot:title={'center':'5'}>],\n",
       "       [<AxesSubplot:title={'center':'6'}>,\n",
       "        <AxesSubplot:title={'center':'7'}>, <AxesSubplot:>]], dtype=object)"
      ]
     },
     "execution_count": 51,
     "metadata": {},
     "output_type": "execute_result"
    },
    {
     "data": {
      "image/png": "[encoded data removed]",
      "text/plain": [
       "<Figure size 720x540 with 9 Axes>"
      ]
     },
     "metadata": {
      "needs_background": "light"
     },
     "output_type": "display_data"
    }
   ],
   "source": [
    "Pca(df2,8).hist(bins=50,figsize=(10,7.5))"
   ]
  },
  {
   "cell_type": "code",
   "execution_count": 52,
   "metadata": {},
   "outputs": [
    {
     "data": {
      "text/plain": [
       "array([[<AxesSubplot:title={'center':'0'}>,\n",
       "        <AxesSubplot:title={'center':'1'}>,\n",
       "        <AxesSubplot:title={'center':'2'}>],\n",
       "       [<AxesSubplot:title={'center':'3'}>,\n",
       "        <AxesSubplot:title={'center':'4'}>,\n",
       "        <AxesSubplot:title={'center':'5'}>],\n",
       "       [<AxesSubplot:title={'center':'6'}>,\n",
       "        <AxesSubplot:title={'center':'7'}>, <AxesSubplot:>]], dtype=object)"
      ]
     },
     "execution_count": 52,
     "metadata": {},
     "output_type": "execute_result"
    },
    {
     "data": {
      "image/png": "[encoded data removed]",
      "text/plain": [
       "<Figure size 720x540 with 9 Axes>"
      ]
     },
     "metadata": {
      "needs_background": "light"
     },
     "output_type": "display_data"
    }
   ],
   "source": [
    "Pca(df3,8).hist(bins=50,figsize=(10,7.5))"
   ]
  },
  {
   "cell_type": "markdown",
   "metadata": {},
   "source": [
    "### Define Cluster function"
   ]
  },
  {
   "cell_type": "code",
   "execution_count": 53,
   "metadata": {},
   "outputs": [],
   "source": [
    "from sklearn.cluster import KMeans, AgglomerativeClustering, DBSCAN\n",
    "from sklearn_extra.cluster import KMedoids\n",
    "import matplotlib.pyplot  as plt\n",
    "from sklearn.metrics import silhouette_score\n",
    "from scipy.spatial import distance"
   ]
  },
  {
   "cell_type": "code",
   "execution_count": 54,
   "metadata": {},
   "outputs": [],
   "source": [
    "def Cluster(df,k,method,pca,pca_k=0):  #method : k-means, agglomerative, k : numer of clusters , pca : true or false\n",
    "                                            #pca_k : reducted dimension after pca\n",
    "    if pca==True:\n",
    "        df=Pca(df,pca_k)\n",
    "\n",
    "    df_p=pd.DataFrame()\n",
    "    \n",
    "    if method=='kmeans':\n",
    "        model=KMeans(k)\n",
    "        model.fit(df)\n",
    "        df_c=pd.DataFrame(model.predict(df),index=df.index)\n",
    "        df_c.columns=['cluster']\n",
    "        return pd.concat([df,df_c],axis=1)\n",
    "        \n",
    "    elif method=='agglomerative':\n",
    "        model=AgglomerativeClustering(k)\n",
    "        df_c=pd.DataFrame(model.fit_predict(df),index=df.index)\n",
    "        df_c.columns=['cluster']\n",
    "        return pd.concat([df,df_c],axis=1)\n",
    "    \n",
    "    elif method=='kmedoids':\n",
    "        model=KMedoids(k)\n",
    "        model.fit(df)\n",
    "        df_c=pd.DataFrame(model.predict(df),index=df.index)\n",
    "        df_c.columns=['cluster']\n",
    "        return pd.concat([df,df_c],axis=1)\n",
    "    \n",
    "    elif method=='dbscan':\n",
    "        model=DBSCAN(eps=0.15,min_samples=2,metric='cosine')\n",
    "        df_c=pd.DataFrame(model.fit_predict(df),index=df.index)\n",
    "        df_c.columns=['cluster']\n",
    "        return pd.concat([df,df_c],axis=1)\n",
    "        \n",
    "    else:\n",
    "        print(\"error\")\n",
    "        return\n",
    "    "
   ]
  },
  {
   "cell_type": "code",
   "execution_count": 55,
   "metadata": {},
   "outputs": [],
   "source": [
    "def remove_lastcolumn(df):  #remove last column of pandas DataFrame\n",
    "    return df.iloc[:,0:df.shape[1]-1]"
   ]
  },
  {
   "cell_type": "code",
   "execution_count": 56,
   "metadata": {},
   "outputs": [],
   "source": [
    "def top_k_nearest(df,name,k): #name : 특정 치킨, k : k개를 출력해줌\n",
    "    \n",
    "    dim=df.shape[1]-1 #feature dimension\n",
    "    \n",
    "    \n",
    "    name_v=remove_lastcolumn(df[df.index==name]).to_numpy().reshape(dim) #name의 feature들, name의 feature vector, 'dim' dimension numpy vector\n",
    "    name_index=df.index.get_loc(name) #name의 index\n",
    "    in_same_clust=df[df['cluster']==df.iloc[name_index]['cluster']] #pandas dataframe 같은 클러스터에 속해있는\n",
    "    in_same_clust=in_same_clust.drop(index=name)\n",
    "    in_same_clust=remove_lastcolumn(in_same_clust)\n",
    "    #print(in_same_clust)\n",
    "    \n",
    "    dist=[]\n",
    "    for i in in_same_clust.index:\n",
    "        another_v=in_same_clust.loc[i].to_numpy() #name과 같은 cluster에속한 대상중 한놈의 feature vector\n",
    "        dist.append(distance.euclidean(name_v,another_v))\n",
    "        \n",
    "    sorted_dist=np.sort(dist) #작은놈부터 큰놈으로\n",
    "    sorted_index=np.argsort(dist) #작은놈 인덱스부터 큰놈 인덱스로\n",
    "    if len(dist)<k:\n",
    "        return in_same_clust.index[sorted_index[0:len(dist)-1]].tolist()\n",
    "    else:\n",
    "        return in_same_clust.index[sorted_index[0:k]].tolist()"
   ]
  },
  {
   "cell_type": "code",
   "execution_count": 59,
   "metadata": {},
   "outputs": [
    {
     "data": {
      "text/plain": [
       "Index(['BBQ극한왕갈비', 'BBQ마라핫', 'BBQ매달구', 'BBQ메이플버터갈릭', 'BBQ바삭칸', 'BBQ뱀파이어',\n",
       "       'BBQ소이갈릭스', 'BBQ스모크', 'BBQ시크릿양념', 'BBQ써프라이드', 'BBQ자메이카통다리구이', 'BBQ크래커',\n",
       "       'BBQ핫황금올리브블랙페퍼', 'BBQ핫황금올리브찐킹소스', 'BBQ핫황금올리브크리스피', 'BBQ허니버터갈릭스',\n",
       "       'BBQ황금올리브', 'BBQ황금올리브속안심', 'BHC_갈비레오', 'BHC_골드킹', 'BHC_레드킹', 'BHC_마라칸',\n",
       "       'BHC_맛초킹', 'BHC_매운맛양념', 'BHC_맵스터', 'BHC_바삭클', 'BHC_블랙올리브', 'BHC_뿌링맵소킹',\n",
       "       'BHC_뿌링클', 'BHC_뿌링클핫', 'BHC_소이바베큐', 'BHC_양념', 'BHC_양념맵소킹', 'BHC_치레카',\n",
       "       'BHC_치바고', 'BHC_치하오', 'BHC_커리퀸', 'BHC_포테킹후라이드', 'BHC_핫후라이드', 'BHC_후라이드',\n",
       "       '교촌치킨_교촌', '교촌치킨_교촌라이스세트', '교촌치킨_교촌리얼후라이드', '교촌치킨_교촌신화', '교촌치킨_교촌후라이드',\n",
       "       '교촌치킨_레드', '교촌치킨_살살치킨', '교촌치킨_허니', '굽네치킨_갈비천왕', '굽네치킨_고추바사삭',\n",
       "       '굽네치킨_딥치즈', '굽네치킨_마라볼케이노', '굽네치킨_볼케이노', '굽네치킨_스윗볼케이노', '굽네치킨_양념',\n",
       "       '굽네치킨_오리지널', '굽네치킨_핫갈비천왕', '굽네치킨_허니멜로', '네네치킨_네네마늘', '네네치킨_매콤스노윙치즈',\n",
       "       '네네치킨_소이갈릭', '네네치킨_소이크런치', '네네치킨_쇼킹핫', '네네치킨_스노윙', '네네치킨_양념',\n",
       "       '네네치킨_오리엔탈파닭', '네네치킨_윙봉', '네네치킨_청양마요', '네네치킨_크리미언', '네네치킨_핫블링',\n",
       "       '네네치킨_후라이드', '노랑통닭_매콤후라이드', '노랑통닭_맵싸한고추', '노랑통닭_알싸한마늘', '노랑통닭_엄청큰깐풍',\n",
       "       '노랑통닭_엄청큰후라이드', '처갓집_더화이트슈프림', '처갓집_더화이트파인유자', '처갓집_슈프림골드', '처갓집_슈프림양념',\n",
       "       '처갓집_양념', '처갓집_와락간장', '처갓집_청양고추', '처갓집_치즈슈프림양념', '처갓집_치폴레',\n",
       "       '처갓집_트러플슈프림양념', '처갓집_핫슈프림양념', '처갓집_후라이드', '페리카나_누꼬', '페리카나_로스핀',\n",
       "       '페리카나_매운양념'],\n",
       "      dtype='object')"
      ]
     },
     "execution_count": 59,
     "metadata": {},
     "output_type": "execute_result"
    }
   ],
   "source": [
    "df1.index"
   ]
  },
  {
   "cell_type": "code",
   "execution_count": 57,
   "metadata": {},
   "outputs": [
    {
     "data": {
      "text/plain": [
       "['BHC_레드킹', 'BBQ마라핫', '페리카나_누꼬', 'BHC_뿌링클핫', 'BHC_마라칸']"
      ]
     },
     "execution_count": 57,
     "metadata": {},
     "output_type": "execute_result"
    }
   ],
   "source": [
    "top_k_nearest(Cluster(df1,6,'dbscan',True,8),'BHC_맵스터',5)"
   ]
  },
  {
   "cell_type": "markdown",
   "metadata": {},
   "source": [
    "# 돌릴때마다 결과 다르게 나옴 (clustering initial point가 달라서)"
   ]
  },
  {
   "cell_type": "markdown",
   "metadata": {},
   "source": [
    "### KMeans"
   ]
  },
  {
   "cell_type": "code",
   "execution_count": 88,
   "metadata": {},
   "outputs": [
    {
     "name": "stdout",
     "output_type": "stream",
     "text": [
      "[['교촌치킨_레드', 'BHC_치하오', 'BHC_소이바베큐', 'BHC_갈비레오', '페리카나_누꼬'], ['처갓집_와락간장', '교촌치킨_레드', 'BBQ써프라이드', 'BHC_치레카', 'BBQ핫황금올리브크리스피'], ['처갓집_와락간장', '교촌치킨_레드', 'BHC_치하오', 'BHC_소이바베큐', 'BHC_갈비레오'], ['BHC_치하오', 'BHC_소이바베큐', 'BHC_갈비레오', '페리카나_누꼬', '굽네치킨_스윗볼케이노'], ['BHC_블랙올리브', 'BHC_양념', 'BBQ시크릿양념', '굽네치킨_양념', '굽네치킨_오리지널'], ['BHC_블랙올리브', 'BHC_양념', 'BBQ시크릿양념', '굽네치킨_양념', '굽네치킨_갈비천왕'], ['처갓집_와락간장', '교촌치킨_레드', 'BBQ써프라이드', 'BBQ핫황금올리브크리스피', 'BHC_핫후라이드']]\n",
      "7\n"
     ]
    }
   ],
   "source": [
    "results=[]\n",
    "for _ in range(100):\n",
    "    i=top_k_nearest(Cluster(df1,6,'kmeans',True,4),'BBQ극한왕갈비',5)\n",
    "    if i not in results:\n",
    "        results.append(i)\n",
    "print(results)\n",
    "print(len(results))"
   ]
  },
  {
   "cell_type": "code",
   "execution_count": 89,
   "metadata": {},
   "outputs": [
    {
     "name": "stdout",
     "output_type": "stream",
     "text": [
      "[['BHC_블랙올리브', 'BHC_양념', 'BBQ시크릿양념', '굽네치킨_양념', '굽네치킨_오리지널']]\n",
      "1\n"
     ]
    }
   ],
   "source": [
    "results=[]\n",
    "for _ in range(100):\n",
    "    i=top_k_nearest(Cluster(df1,6,'dbscan',True,4),'BBQ극한왕갈비',5)\n",
    "    if i not in results:\n",
    "        results.append(i)\n",
    "print(results)\n",
    "print(len(results))"
   ]
  },
  {
   "cell_type": "code",
   "execution_count": 86,
   "metadata": {},
   "outputs": [
    {
     "name": "stdout",
     "output_type": "stream",
     "text": [
      "[['처갓집_와락간장', '교촌치킨_레드', 'BHC_치하오', 'BHC_소이바베큐', 'BHC_갈비레오', 'BHC_마라칸']]\n",
      "1\n"
     ]
    }
   ],
   "source": [
    "results=[]\n",
    "for _ in range(100):\n",
    "    i=top_k_nearest(Cluster(df1,6,'kmedoids',True,4),'BBQ극한왕갈비',6)\n",
    "    if i not in results:\n",
    "        results.append(i)\n",
    "print(results)\n",
    "print(len(results))"
   ]
  },
  {
   "cell_type": "code",
   "execution_count": 87,
   "metadata": {},
   "outputs": [
    {
     "name": "stdout",
     "output_type": "stream",
     "text": [
      "[['BHC_블랙올리브', 'BHC_맛초킹', 'BHC_양념', 'BBQ시크릿양념', '굽네치킨_양념', '굽네치킨_오리지널']]\n",
      "1\n"
     ]
    }
   ],
   "source": [
    "results=[]\n",
    "for _ in range(100):\n",
    "    i=top_k_nearest(Cluster(df1,6,'agglomerative',True,4),'BBQ극한왕갈비',6)\n",
    "    if i not in results:\n",
    "        results.append(i)\n",
    "print(results)\n",
    "print(len(results))"
   ]
  },
  {
   "cell_type": "markdown",
   "metadata": {},
   "source": [
    "# Clustering visualization (T-SNE, MDS)"
   ]
  },
  {
   "cell_type": "code",
   "execution_count": 58,
   "metadata": {},
   "outputs": [],
   "source": [
    "from sklearn.manifold import TSNE, MDS"
   ]
  },
  {
   "cell_type": "code",
   "execution_count": 59,
   "metadata": {},
   "outputs": [],
   "source": [
    "def Visualize(df,k,method,pca,pca_k):\n",
    "    tsneNDArray = TSNE(n_components = 2, init = 'random',random_state=0).fit_transform(df)\n",
    "    mdsNDArray=MDS(n_components = 2, metric='true',random_state=0).fit_transform(df)\n",
    "    plt.figure(figsize=(16,8))\n",
    "    plt.subplot(1,2,1)\n",
    "    plt.scatter(tsneNDArray[:, 0], tsneNDArray[:, 1], c = Cluster(df,k,method,pca,pca_k)['cluster'],s=75)\n",
    "    plt.title(\"T-SNE\"+'-'+method)\n",
    "    plt.subplot(1,2,2)\n",
    "    plt.scatter(mdsNDArray[:, 0], mdsNDArray[:, 1], c = Cluster(df,k,method,pca,pca_k)['cluster'],s=75)\n",
    "    plt.title(\"MDS\"+'-'+method) \n",
    "    plt.show()"
   ]
  },
  {
   "cell_type": "code",
   "execution_count": 60,
   "metadata": {},
   "outputs": [
    {
     "data": {
      "image/png": "[encoded data removed]",
      "text/plain": [
       "<Figure size 1152x576 with 2 Axes>"
      ]
     },
     "metadata": {
      "needs_background": "light"
     },
     "output_type": "display_data"
    }
   ],
   "source": [
    "Visualize(df1,6,'agglomerative',True,4)"
   ]
  },
  {
   "cell_type": "markdown",
   "metadata": {},
   "source": [
    "# 여러가지 클러스터링 방법 결과 비교"
   ]
  },
  {
   "cell_type": "code",
   "execution_count": 61,
   "metadata": {},
   "outputs": [],
   "source": [
    "import operator"
   ]
  },
  {
   "cell_type": "code",
   "execution_count": 62,
   "metadata": {},
   "outputs": [],
   "source": [
    "def recommend_chicken(name,methods,k): #name : 치킨 이름, k: top_k 순서대로 출력, method 예시 : method=['dbscan','kmedoids','agglomerative']\n",
    "    bools=[True,False]\n",
    "    dfs=[df1,df2,df3]\n",
    "    \n",
    "    results=[]\n",
    "    for i in bools:\n",
    "        for j in methods:\n",
    "            for l in dfs:\n",
    "                top_k = top_k_nearest(Cluster(l,6,j,i,3),name,k)\n",
    "                results.append(top_k)\n",
    "                            \n",
    "    menu_list = [item for sublist in results for item in sublist]\n",
    "    menu_list = list(set(menu_list))\n",
    "    \n",
    "    scoring=dict()\n",
    "    for i in menu_list:\n",
    "        scoring[i]=0\n",
    "    \n",
    "    for idx in range(len(results)):\n",
    "        for rank in range(len(results[idx])):\n",
    "            menu_name=results[idx][rank]\n",
    "            scoring[menu_name]+=(len(results[idx])-rank)\n",
    "            \n",
    "    sorted_scoring=sorted(scoring.items(),key=operator.itemgetter(1),reverse=True)\n",
    "    output=[]\n",
    "    for i in sorted_scoring[0:k]:\n",
    "        output.append(i[0])\n",
    "    return output"
   ]
  },
  {
   "cell_type": "code",
   "execution_count": 63,
   "metadata": {},
   "outputs": [
    {
     "data": {
      "text/plain": [
       "['BHC_블랙올리브', 'BHC_양념', '처갓집_와락간장', '굽네치킨_오리지널', 'BHC_치하오']"
      ]
     },
     "execution_count": 63,
     "metadata": {},
     "output_type": "execute_result"
    }
   ],
   "source": [
    "recommend_chicken('BBQ극한왕갈비',['dbscan','agglomerative'],5)"
   ]
  },
  {
   "cell_type": "code",
   "execution_count": 68,
   "metadata": {},
   "outputs": [
    {
     "data": {
      "text/plain": [
       "Index(['BBQ극한왕갈비', 'BBQ마라핫', 'BBQ매달구', 'BBQ메이플버터갈릭', 'BBQ바삭칸', 'BBQ뱀파이어',\n",
       "       'BBQ소이갈릭스', 'BBQ스모크', 'BBQ시크릿양념', 'BBQ써프라이드', 'BBQ자메이카통다리구이', 'BBQ크래커',\n",
       "       'BBQ핫황금올리브블랙페퍼', 'BBQ핫황금올리브찐킹소스', 'BBQ핫황금올리브크리스피', 'BBQ허니버터갈릭스',\n",
       "       'BBQ황금올리브', 'BBQ황금올리브속안심', 'BHC_갈비레오', 'BHC_골드킹', 'BHC_레드킹', 'BHC_마라칸',\n",
       "       'BHC_맛초킹', 'BHC_매운맛양념', 'BHC_맵스터', 'BHC_바삭클', 'BHC_블랙올리브', 'BHC_뿌링맵소킹',\n",
       "       'BHC_뿌링클', 'BHC_뿌링클핫', 'BHC_소이바베큐', 'BHC_양념', 'BHC_양념맵소킹', 'BHC_치레카',\n",
       "       'BHC_치바고', 'BHC_치하오', 'BHC_커리퀸', 'BHC_포테킹후라이드', 'BHC_핫후라이드', 'BHC_후라이드',\n",
       "       '교촌치킨_교촌', '교촌치킨_교촌라이스세트', '교촌치킨_교촌리얼후라이드', '교촌치킨_교촌신화', '교촌치킨_교촌후라이드',\n",
       "       '교촌치킨_레드', '교촌치킨_살살치킨', '교촌치킨_허니', '굽네치킨_갈비천왕', '굽네치킨_고추바사삭',\n",
       "       '굽네치킨_딥치즈', '굽네치킨_마라볼케이노', '굽네치킨_볼케이노', '굽네치킨_스윗볼케이노', '굽네치킨_양념',\n",
       "       '굽네치킨_오리지널', '굽네치킨_핫갈비천왕', '굽네치킨_허니멜로', '네네치킨_네네마늘', '네네치킨_매콤스노윙치즈',\n",
       "       '네네치킨_소이갈릭', '네네치킨_소이크런치', '네네치킨_쇼킹핫', '네네치킨_스노윙', '네네치킨_양념',\n",
       "       '네네치킨_오리엔탈파닭', '네네치킨_윙봉', '네네치킨_청양마요', '네네치킨_크리미언', '네네치킨_핫블링',\n",
       "       '네네치킨_후라이드', '노랑통닭_매콤후라이드', '노랑통닭_맵싸한고추', '노랑통닭_알싸한마늘', '노랑통닭_엄청큰깐풍',\n",
       "       '노랑통닭_엄청큰후라이드', '처갓집_더화이트슈프림', '처갓집_더화이트파인유자', '처갓집_슈프림골드', '처갓집_슈프림양념',\n",
       "       '처갓집_양념', '처갓집_와락간장', '처갓집_청양고추', '처갓집_치즈슈프림양념', '처갓집_치폴레',\n",
       "       '처갓집_트러플슈프림양념', '처갓집_핫슈프림양념', '처갓집_후라이드', '페리카나_누꼬', '페리카나_로스핀',\n",
       "       '페리카나_매운양념'],\n",
       "      dtype='object')"
      ]
     },
     "execution_count": 68,
     "metadata": {},
     "output_type": "execute_result"
    }
   ],
   "source": [
    "df1.index"
   ]
  },
  {
   "cell_type": "code",
   "execution_count": 71,
   "metadata": {},
   "outputs": [
    {
     "name": "stdout",
     "output_type": "stream",
     "text": [
      "Run same menu 100 times and count all the different results\n",
      "results :  [['BHC_치하오', 'BHC_블랙올리브', '처갓집_와락간장', 'BHC_양념', '교촌치킨_레드']]\n",
      "number of all results : 1\n"
     ]
    }
   ],
   "source": [
    "results=[]\n",
    "print(\"Run same menu 100 times and count all the different results\")\n",
    "for _ in range(100):\n",
    "    i=recommend_chicken('BBQ극한왕갈비',['kmedoids'],5)\n",
    "    if i not in results:\n",
    "        results.append(i)\n",
    "print(\"results : \",results)\n",
    "print(\"number of all results :\",len(results))"
   ]
  },
  {
   "cell_type": "code",
   "execution_count": 73,
   "metadata": {},
   "outputs": [
    {
     "name": "stdout",
     "output_type": "stream",
     "text": [
      "Run same menu 100 times and count all the different results\n",
      "results :  [['BHC_블랙올리브', '처갓집_와락간장', '굽네치킨_오리지널', 'BHC_맛초킹', 'BHC_양념']]\n",
      "number of all results : 1\n"
     ]
    }
   ],
   "source": [
    "results=[]\n",
    "print(\"Run same menu 100 times and count all the different results\")\n",
    "for _ in range(100):\n",
    "    i=recommend_chicken('BBQ극한왕갈비',['dbscan'],5)\n",
    "    if i not in results:\n",
    "        results.append(i)\n",
    "print(\"results : \",results)\n",
    "print(\"number of all results :\",len(results))"
   ]
  },
  {
   "cell_type": "code",
   "execution_count": 72,
   "metadata": {},
   "outputs": [
    {
     "name": "stdout",
     "output_type": "stream",
     "text": [
      "Run same menu 100 times and count all the different results\n",
      "results :  [['BHC_블랙올리브', 'BHC_양념', '굽네치킨_오리지널', 'BHC_치하오', '처갓집_와락간장']]\n",
      "number of all results : 1\n"
     ]
    }
   ],
   "source": [
    "results=[]\n",
    "print(\"Run same menu 100 times and count all the different results\")\n",
    "for _ in range(100):\n",
    "    i=recommend_chicken('BBQ극한왕갈비',['agglomerative'],5)\n",
    "    if i not in results:\n",
    "        results.append(i)\n",
    "print(\"results : \",results)\n",
    "print(\"number of all results :\",len(results))"
   ]
  },
  {
   "cell_type": "code",
   "execution_count": 74,
   "metadata": {},
   "outputs": [
    {
     "name": "stdout",
     "output_type": "stream",
     "text": [
      "Run same menu 100 times and count all the different results\n",
      "results :  [['BHC_치하오', 'BHC_블랙올리브', '교촌치킨_레드', '굽네치킨_오리지널', 'BHC_양념'], ['BHC_치하오', 'BHC_블랙올리브', 'BHC_양념', '처갓집_와락간장', '교촌치킨_레드'], ['처갓집_와락간장', '교촌치킨_레드', 'BHC_치하오', 'BHC_블랙올리브', 'BHC_양념'], ['BHC_치하오', '처갓집_와락간장', '교촌치킨_레드', 'BHC_소이바베큐', 'BHC_블랙올리브'], ['처갓집_와락간장', 'BHC_치하오', 'BHC_블랙올리브', '교촌치킨_레드', '굽네치킨_오리지널'], ['처갓집_와락간장', '교촌치킨_레드', 'BHC_치하오', 'BBQ써프라이드', '굽네치킨_오리지널'], ['BHC_치하오', '교촌치킨_레드', '처갓집_와락간장', 'BHC_소이바베큐', 'BHC_블랙올리브'], ['BHC_블랙올리브', '굽네치킨_오리지널', 'BHC_양념', 'BHC_치하오', '처갓집_와락간장'], ['BHC_치하오', 'BHC_블랙올리브', '굽네치킨_오리지널', 'BHC_양념', 'BHC_소이바베큐'], ['BHC_치하오', '교촌치킨_레드', 'BHC_소이바베큐', '처갓집_와락간장', 'BHC_블랙올리브'], ['처갓집_와락간장', 'BHC_블랙올리브', '교촌치킨_레드', '굽네치킨_오리지널', 'BHC_양념'], ['교촌치킨_레드', 'BHC_치하오', '처갓집_와락간장', 'BHC_블랙올리브', 'BHC_양념'], ['처갓집_와락간장', '교촌치킨_레드', 'BHC_치하오', 'BHC_소이바베큐', '굽네치킨_오리지널'], ['BHC_블랙올리브', 'BHC_양념', 'BBQ시크릿양념', '굽네치킨_오리지널', 'BHC_치하오'], ['BHC_블랙올리브', '처갓집_와락간장', 'BHC_양념', '교촌치킨_레드', 'BHC_치하오'], ['교촌치킨_레드', '처갓집_와락간장', 'BHC_치하오', 'BHC_소이바베큐', 'BBQ써프라이드'], ['처갓집_와락간장', '교촌치킨_레드', '굽네치킨_오리지널', 'BHC_치하오', 'BHC_블랙올리브'], ['처갓집_와락간장', '교촌치킨_레드', 'BHC_치하오', 'BHC_소이바베큐', 'BBQ써프라이드'], ['BHC_블랙올리브', '굽네치킨_오리지널', '처갓집_와락간장', 'BHC_양념', 'BHC_치하오'], ['BHC_치하오', '교촌치킨_레드', '굽네치킨_오리지널', '처갓집_와락간장', 'BHC_블랙올리브'], ['처갓집_와락간장', '교촌치킨_레드', 'BHC_치하오', 'BBQ써프라이드', 'BHC_소이바베큐'], ['BHC_치하오', '처갓집_와락간장', '교촌치킨_레드', 'BHC_소이바베큐', '굽네치킨_오리지널'], ['교촌치킨_레드', 'BHC_치하오', '처갓집_와락간장', 'BHC_소이바베큐', '굽네치킨_오리지널']]\n",
      "number of all results : 23\n"
     ]
    }
   ],
   "source": [
    "results=[]\n",
    "print(\"Run same menu 100 times and count all the different results\")\n",
    "for _ in range(100):\n",
    "    i=recommend_chicken('BBQ극한왕갈비',['kmeans'],5)\n",
    "    if i not in results:\n",
    "        results.append(i)\n",
    "print(\"results : \",results)\n",
    "print(\"number of all results :\",len(results))"
   ]
  },
  {
   "cell_type": "code",
   "execution_count": null,
   "metadata": {},
   "outputs": [],
   "source": [
    "results=[]\n",
    "print(\"Run same menu 100 times and count all the different results\")\n",
    "for _ in range(100):\n",
    "    i=recommend_chicken('BBQ극한왕갈비',['kmeans','kmedoids'],5)\n",
    "    if i not in results:\n",
    "        results.append(i)\n",
    "print(\"results : \",results)\n",
    "print(\"number of all results :\",len(results))"
   ]
  },
  {
   "cell_type": "code",
   "execution_count": 77,
   "metadata": {},
   "outputs": [
    {
     "name": "stdout",
     "output_type": "stream",
     "text": [
      "['BHC_양념', 'BHC_블랙올리브', 'BBQ시크릿양념', '처갓집_와락간장', '교촌치킨_레드']\n"
     ]
    }
   ],
   "source": [
    "elements=[]\n",
    "for i in results:\n",
    "    for j in i:\n",
    "        if j not in elements:\n",
    "            elements.append(j)\n",
    "        \n",
    "print(elements)"
   ]
  },
  {
   "cell_type": "code",
   "execution_count": 78,
   "metadata": {},
   "outputs": [
    {
     "name": "stdout",
     "output_type": "stream",
     "text": [
      "[['BHC_양념', 'BHC_블랙올리브', '처갓집_와락간장', '교촌치킨_레드', 'BHC_소이바베큐']]\n",
      "1\n"
     ]
    }
   ],
   "source": [
    "results=[]\n",
    "for _ in range(100):\n",
    "    i=recommend_chicken('BBQ극한왕갈비','kmedoids',5)\n",
    "    if i not in results:\n",
    "        results.append(i)\n",
    "print(results)\n",
    "print(len(results))"
   ]
  },
  {
   "cell_type": "code",
   "execution_count": 79,
   "metadata": {},
   "outputs": [
    {
     "name": "stdout",
     "output_type": "stream",
     "text": [
      "['BHC_양념', 'BHC_블랙올리브', '처갓집_와락간장', '교촌치킨_레드', 'BHC_소이바베큐']\n"
     ]
    }
   ],
   "source": [
    "elements=[]\n",
    "for i in results:\n",
    "    for j in i:\n",
    "        if j not in elements:\n",
    "            elements.append(j)\n",
    "        \n",
    "print(elements)"
   ]
  },
  {
   "cell_type": "code",
   "execution_count": 64,
   "metadata": {},
   "outputs": [],
   "source": [
    "def recommend_chicken(name,k):\n",
    "    bools=[True,False]\n",
    "    methods=['agglomerative','kmedoids']\n",
    "    dfs=[df1,df2,df3]\n",
    "    \n",
    "    results=[]\n",
    "    for i in bools:\n",
    "        for j in methods:\n",
    "            for l in dfs:\n",
    "                top_k = top_k_nearest(Cluster(l,6,j,i,3),name,k)\n",
    "                results.append(top_k)\n",
    "                            \n",
    "    menu_list = [item for sublist in results for item in sublist]\n",
    "    menu_list = list(set(menu_list))\n",
    "    \n",
    "    scoring=dict()\n",
    "    for i in menu_list:\n",
    "        scoring[i]=0\n",
    "    \n",
    "    for idx in range(len(results)):\n",
    "        for rank in range(k):\n",
    "            menu_name=results[idx][rank]\n",
    "            scoring[menu_name]+=1\n",
    "            \n",
    "    sorted_scoring=sorted(scoring.items(),key=operator.itemgetter(1),reverse=True)\n",
    "    output=[]\n",
    "    for i in sorted_scoring[0:k]:\n",
    "        output.append(i[0])\n",
    "    return output"
   ]
  },
  {
   "cell_type": "code",
   "execution_count": 99,
   "metadata": {},
   "outputs": [
    {
     "name": "stdout",
     "output_type": "stream",
     "text": [
      "[['교촌치킨_교촌후라이드', '교촌치킨_교촌리얼후라이드', '노랑통닭_엄청큰깐풍', 'BHC_뿌링클', '교촌치킨_살살치킨']]\n",
      "1\n"
     ]
    }
   ],
   "source": [
    "results=[]\n",
    "for _ in range(100):\n",
    "    i=recommend_chicken('BBQ소이갈릭스',5)\n",
    "    if i not in results:\n",
    "        results.append(i)\n",
    "print(results)\n",
    "print(len(results))"
   ]
  },
  {
   "cell_type": "code",
   "execution_count": 100,
   "metadata": {},
   "outputs": [
    {
     "name": "stdout",
     "output_type": "stream",
     "text": [
      "['교촌치킨_교촌후라이드', '교촌치킨_교촌리얼후라이드', '노랑통닭_엄청큰깐풍', 'BHC_뿌링클', '교촌치킨_살살치킨']\n"
     ]
    }
   ],
   "source": [
    "elements=[]\n",
    "for i in results:\n",
    "    for j in i:\n",
    "        if j not in elements:\n",
    "            elements.append(j)\n",
    "        \n",
    "print(elements)"
   ]
  },
  {
   "cell_type": "markdown",
   "metadata": {},
   "source": [
    "# silhouette score"
   ]
  },
  {
   "cell_type": "code",
   "execution_count": null,
   "metadata": {},
   "outputs": [],
   "source": [
    "from sklearn.metrics import silhouette_samples,silhouette_score\n",
    "\n",
    "for i,k in enumerate([2,3,4,5,6,7,8,9,10]):\n",
    "    \n",
    "#     fig,ax = plt.subplots(5,1,figsize=(15,5))\n",
    "    fig,ax = plt.subplots(1,1,figsize=(15,5))\n",
    "\n",
    "    # Run the kmeans algorithm\n",
    "    km = KMeans(n_clusters=k)\n",
    "    y_predict = km.fit_predict(feature)\n",
    "    centroids  = km.cluster_centers_\n",
    "    \n",
    "    silhouette_vals = silhouette_samples(feature,y_predict)\n",
    "\n",
    "    y_ticks = []\n",
    "    y_lower = y_upper = 0\n",
    "    for i,cluster in enumerate(np.unique(y_predict)):\n",
    "       cluster_silhouette_vals = silhouette_vals[y_predict ==cluster]\n",
    "       cluster_silhouette_vals.sort()\n",
    "       y_upper += len(cluster_silhouette_vals)\n",
    "\n",
    "       ax.barh(range(y_lower,y_upper),\n",
    "       cluster_silhouette_vals,height =1);\n",
    "       ax.text(-0.03,(y_lower+y_upper)/2,str(i+1))\n",
    "       y_lower += len(cluster_silhouette_vals)\n",
    "\n",
    "       # Get the average silhouette score \n",
    "       avg_score = np.mean(silhouette_vals)\n",
    "       ax.axvline(avg_score,linestyle ='--',\n",
    "       linewidth =2,color = 'green')\n",
    "       ax.set_yticks([])\n",
    "       ax.set_xlim([-0.1, 1])\n",
    "       ax.set_xlabel('Silhouette coefficient values')\n",
    "       ax.set_ylabel('Cluster labels')\n",
    "       ax.set_title('Silhouette plot for the various clusters');\n",
    "\n",
    "    #     # scatter plot of data colored with labels\n",
    "    #     ax[1].scatter(df2['petal length (cm)'],\n",
    "    #     df2['petal width (cm)'] , c = y_predict);\n",
    "    #     ax[1].scatter(centroids[:,0],centroids[:,1],\n",
    "    #     marker = '*' , c= 'r',s =250);\n",
    "    #     ax[1].set_xlabel('Eruption time in mins')\n",
    "    #     ax[1].set_ylabel('Waiting time to next eruption')\n",
    "    #     ax[1].set_title('Visualization of clustered data', y=1.02)\n",
    "\n",
    "       plt.tight_layout()\n",
    "       plt.suptitle(f' Silhouette analysis using k = {k} \\n score = {round(avg_score,2)}',fontsize=16,fontweight = 'semibold')\n",
    "    #    plt.savefig(f'Silhouette_analysis_{k}.jpg')"
   ]
  },
  {
   "cell_type": "markdown",
   "metadata": {},
   "source": [
    "# Inersia estimate"
   ]
  },
  {
   "cell_type": "code",
   "execution_count": 92,
   "metadata": {},
   "outputs": [
    {
     "data": {
      "text/plain": [
       "Text(0.5, 1.0, 'KMedoids')"
      ]
     },
     "execution_count": 92,
     "metadata": {},
     "output_type": "execute_result"
    },
    {
     "data": {
      "image/png": "[encoded data removed]",
      "text/plain": [
       "<Figure size 1080x540 with 2 Axes>"
      ]
     },
     "metadata": {
      "needs_background": "light"
     },
     "output_type": "display_data"
    }
   ],
   "source": [
    "ks=range(1,11)\n",
    "i1,i2,i3=[],[],[]\n",
    "\n",
    "plt.figure(figsize=(15,7.5))\n",
    "for k in ks:\n",
    "    model = KMeans(n_clusters=k)\n",
    "    model.fit(Pca(df1,3))\n",
    "    i1.append(model.inertia_)\n",
    "plt.subplot(1,2,1)\n",
    "plt.plot(ks,i1,'-o')\n",
    "plt.title(\"KMeans\")\n",
    "for k in ks:\n",
    "    model=KMedoids(n_clusters=k)\n",
    "    model.fit(Pca(df1,3))\n",
    "    i2.append(model.inertia_)\n",
    "plt.subplot(1,2,2)\n",
    "plt.plot(ks,i2,'-o')\n",
    "plt.title(\"KMedoids\")\n",
    "for k in ks:\n",
    "    model=\n"
   ]
  },
  {
   "cell_type": "markdown",
   "metadata": {},
   "source": [
    "# Demo"
   ]
  },
  {
   "cell_type": "code",
   "execution_count": 65,
   "metadata": {},
   "outputs": [],
   "source": [
    "def top_k_recommend_chicken(name,k): #name : 치킨 이름, k: top_k 순서대로 출력, method 예시 : method=['dbscan','kmedoids','agglomerative']\n",
    "    dfs=[Pca(df1,4),Pca(df2,4),Pca(df3,4)]\n",
    "    methods=['kmedoids','agglomerative','dbscan']\n",
    "    \n",
    "    results=[]\n",
    "    for j in methods:\n",
    "        for l in dfs:\n",
    "            top_k = top_k_nearest(Cluster(l,6,j,True,4),name,k)\n",
    "            results.append(top_k)\n",
    "                            \n",
    "    menu_list = [item for sublist in results for item in sublist]\n",
    "    menu_list = list(set(menu_list))\n",
    "    \n",
    "    scoring=dict()\n",
    "    for i in menu_list:\n",
    "        scoring[i]=0\n",
    "    \n",
    "    for idx in range(len(results)):\n",
    "        for rank in range(len(results[idx])):\n",
    "            menu_name=results[idx][rank]\n",
    "            scoring[menu_name]+=(len(results[idx])-rank)\n",
    "            \n",
    "    sorted_scoring=sorted(scoring.items(),key=operator.itemgetter(1),reverse=True)\n",
    "    output=[]\n",
    "    for i in sorted_scoring[0:k]:\n",
    "        output.append(i[0])\n",
    "    return output"
   ]
  },
  {
   "cell_type": "code",
   "execution_count": 74,
   "metadata": {
    "tags": []
   },
   "outputs": [
    {
     "data": {
      "text/plain": [
       "['BBQ황금올리브속안심', '네네치킨_윙봉', 'BBQ크래커', '굽네치킨_고추바사삭', '네네치킨_오리엔탈파닭']"
      ]
     },
     "execution_count": 74,
     "metadata": {},
     "output_type": "execute_result"
    }
   ],
   "source": [
    "top_k_recommend_chicken(\"노랑통닭_알싸한마늘\",5)"
   ]
  },
  {
   "cell_type": "markdown",
   "metadata": {},
   "source": [
    "# Finding example menus"
   ]
  },
  {
   "cell_type": "code",
   "execution_count": 130,
   "metadata": {},
   "outputs": [
    {
     "name": "stdout",
     "output_type": "stream",
     "text": [
      "BBQ극한왕갈비\n",
      "BBQ마라핫\n",
      "BBQ매달구\n",
      "BBQ메이플버터갈릭\n",
      "BBQ바삭칸\n",
      "BBQ뱀파이어\n",
      "BBQ소이갈릭스\n",
      "BBQ스모크\n",
      "BBQ시크릿양념\n",
      "BBQ써프라이드\n",
      "BBQ자메이카통다리구이\n",
      "BBQ크래커\n",
      "BBQ핫황금올리브블랙페퍼\n",
      "BBQ핫황금올리브찐킹소스\n",
      "BBQ핫황금올리브크리스피\n",
      "BBQ허니버터갈릭스\n",
      "BBQ황금올리브\n",
      "BBQ황금올리브속안심\n",
      "BHC_갈비레오\n",
      "BHC_골드킹\n",
      "BHC_레드킹\n",
      "BHC_마라칸\n",
      "BHC_맛초킹\n",
      "BHC_매운맛양념\n",
      "BHC_맵스터\n",
      "BHC_바삭클\n",
      "BHC_블랙올리브\n",
      "BHC_뿌링맵소킹\n",
      "BHC_뿌링클\n",
      "BHC_뿌링클핫\n",
      "BHC_소이바베큐\n",
      "BHC_양념\n",
      "BHC_양념맵소킹\n",
      "BHC_치레카\n",
      "BHC_치바고\n",
      "BHC_치하오\n",
      "BHC_커리퀸\n",
      "BHC_포테킹후라이드\n",
      "BHC_핫후라이드\n",
      "BHC_후라이드\n",
      "교촌치킨_교촌\n",
      "교촌치킨_교촌라이스세트\n",
      "교촌치킨_교촌리얼후라이드\n",
      "교촌치킨_교촌신화\n",
      "교촌치킨_교촌후라이드\n",
      "교촌치킨_레드\n",
      "교촌치킨_살살치킨\n",
      "교촌치킨_허니\n",
      "굽네치킨_갈비천왕\n",
      "굽네치킨_고추바사삭\n",
      "굽네치킨_딥치즈\n",
      "굽네치킨_마라볼케이노\n",
      "굽네치킨_볼케이노\n",
      "굽네치킨_스윗볼케이노\n",
      "굽네치킨_양념\n",
      "굽네치킨_오리지널\n",
      "굽네치킨_핫갈비천왕\n",
      "굽네치킨_허니멜로\n",
      "네네치킨_네네마늘\n",
      "네네치킨_매콤스노윙치즈\n",
      "네네치킨_소이갈릭\n",
      "네네치킨_소이크런치\n",
      "네네치킨_쇼킹핫\n",
      "네네치킨_스노윙\n",
      "네네치킨_양념\n",
      "네네치킨_오리엔탈파닭\n",
      "네네치킨_윙봉\n",
      "네네치킨_청양마요\n",
      "네네치킨_크리미언\n",
      "네네치킨_핫블링\n",
      "네네치킨_후라이드\n",
      "노랑통닭_매콤후라이드\n",
      "노랑통닭_맵싸한고추\n",
      "노랑통닭_알싸한마늘\n",
      "노랑통닭_엄청큰깐풍\n",
      "노랑통닭_엄청큰후라이드\n",
      "처갓집_더화이트슈프림\n",
      "처갓집_더화이트파인유자\n",
      "처갓집_슈프림골드\n",
      "처갓집_슈프림양념\n",
      "처갓집_양념\n",
      "처갓집_와락간장\n",
      "처갓집_청양고추\n",
      "처갓집_치즈슈프림양념\n",
      "처갓집_치폴레\n",
      "처갓집_트러플슈프림양념\n",
      "처갓집_핫슈프림양념\n",
      "처갓집_후라이드\n",
      "페리카나_누꼬\n",
      "페리카나_로스핀\n",
      "페리카나_매운양념\n"
     ]
    }
   ],
   "source": [
    "example_menus=[]\n",
    "for c in df1.index:\n",
    "    temp=[]\n",
    "    for _ in range(100):\n",
    "        i=top_k_recommend_chicken(c,5)\n",
    "        if len(temp)==0:\n",
    "            temp.append(i)\n",
    "        elif i not in temp:\n",
    "            break\n",
    "    print(c)\n",
    "    example_menus.append(c)"
   ]
  },
  {
   "cell_type": "code",
   "execution_count": 132,
   "metadata": {},
   "outputs": [
    {
     "data": {
      "text/plain": [
       "array(['BBQ극한왕갈비', 'BBQ마라핫', 'BBQ매달구', 'BBQ메이플버터갈릭', 'BBQ바삭칸', 'BBQ뱀파이어',\n",
       "       'BBQ소이갈릭스', 'BBQ스모크', 'BBQ시크릿양념', 'BBQ써프라이드', 'BBQ자메이카통다리구이',\n",
       "       'BBQ크래커', 'BBQ핫황금올리브블랙페퍼', 'BBQ핫황금올리브찐킹소스', 'BBQ핫황금올리브크리스피',\n",
       "       'BBQ허니버터갈릭스', 'BBQ황금올리브', 'BBQ황금올리브속안심', 'BHC_갈비레오', 'BHC_골드킹',\n",
       "       'BHC_레드킹', 'BHC_마라칸', 'BHC_맛초킹', 'BHC_매운맛양념', 'BHC_맵스터', 'BHC_바삭클',\n",
       "       'BHC_블랙올리브', 'BHC_뿌링맵소킹', 'BHC_뿌링클', 'BHC_뿌링클핫', 'BHC_소이바베큐',\n",
       "       'BHC_양념', 'BHC_양념맵소킹', 'BHC_치레카', 'BHC_치바고', 'BHC_치하오', 'BHC_커리퀸',\n",
       "       'BHC_포테킹후라이드', 'BHC_핫후라이드', 'BHC_후라이드', '교촌치킨_교촌', '교촌치킨_교촌라이스세트',\n",
       "       '교촌치킨_교촌리얼후라이드', '교촌치킨_교촌신화', '교촌치킨_교촌후라이드', '교촌치킨_레드',\n",
       "       '교촌치킨_살살치킨', '교촌치킨_허니', '굽네치킨_갈비천왕', '굽네치킨_고추바사삭', '굽네치킨_딥치즈',\n",
       "       '굽네치킨_마라볼케이노', '굽네치킨_볼케이노', '굽네치킨_스윗볼케이노', '굽네치킨_양념', '굽네치킨_오리지널',\n",
       "       '굽네치킨_핫갈비천왕', '굽네치킨_허니멜로', '네네치킨_네네마늘', '네네치킨_매콤스노윙치즈',\n",
       "       '네네치킨_소이갈릭', '네네치킨_소이크런치', '네네치킨_쇼킹핫', '네네치킨_스노윙', '네네치킨_양념',\n",
       "       '네네치킨_오리엔탈파닭', '네네치킨_윙봉', '네네치킨_청양마요', '네네치킨_크리미언', '네네치킨_핫블링',\n",
       "       '네네치킨_후라이드', '노랑통닭_매콤후라이드', '노랑통닭_맵싸한고추', '노랑통닭_알싸한마늘',\n",
       "       '노랑통닭_엄청큰깐풍', '노랑통닭_엄청큰후라이드', '처갓집_더화이트슈프림', '처갓집_더화이트파인유자',\n",
       "       '처갓집_슈프림골드', '처갓집_슈프림양념', '처갓집_양념', '처갓집_와락간장', '처갓집_청양고추',\n",
       "       '처갓집_치즈슈프림양념', '처갓집_치폴레', '처갓집_트러플슈프림양념', '처갓집_핫슈프림양념', '처갓집_후라이드',\n",
       "       '페리카나_누꼬', '페리카나_로스핀', '페리카나_매운양념'], dtype='<U13')"
      ]
     },
     "execution_count": 132,
     "metadata": {},
     "output_type": "execute_result"
    }
   ],
   "source": [
    "np.array(example_menus)"
   ]
  },
  {
   "cell_type": "code",
   "execution_count": null,
   "metadata": {},
   "outputs": [],
   "source": []
  }
 ],
 "metadata": {
  "kernelspec": {
   "display_name": "Python 3",
   "language": "python",
   "name": "python3"
  },
  "language_info": {
   "codemirror_mode": {
    "name": "ipython",
    "version": 3
   },
   "file_extension": ".py",
   "mimetype": "text/x-python",
   "name": "python",
   "nbconvert_exporter": "python",
   "pygments_lexer": "ipython3",
   "version": "3.8.5"
  }
 },
 "nbformat": 4,
 "nbformat_minor": 4
}
